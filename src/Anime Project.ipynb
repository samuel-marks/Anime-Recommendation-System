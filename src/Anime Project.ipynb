{
 "cells": [
  {
   "cell_type": "code",
   "execution_count": 1,
   "id": "9d920258",
   "metadata": {},
   "outputs": [],
   "source": [
    "#Let's begin"
   ]
  },
  {
   "cell_type": "code",
   "execution_count": 2,
   "id": "cf4ea97f",
   "metadata": {},
   "outputs": [],
   "source": [
    "#Import the dataset"
   ]
  },
  {
   "cell_type": "code",
   "execution_count": 3,
   "id": "283d4392",
   "metadata": {},
   "outputs": [],
   "source": [
    "# pip install voila"
   ]
  },
  {
   "cell_type": "code",
   "execution_count": 4,
   "id": "3a6ccd3f",
   "metadata": {},
   "outputs": [],
   "source": [
    "url = 'G:/ML Python Projects/anime.csv'"
   ]
  },
  {
   "cell_type": "code",
   "execution_count": 5,
   "id": "e47af541",
   "metadata": {},
   "outputs": [
    {
     "data": {
      "text/plain": [
       "'G:/ML Python Projects/anime.csv'"
      ]
     },
     "execution_count": 5,
     "metadata": {},
     "output_type": "execute_result"
    }
   ],
   "source": [
    "url"
   ]
  },
  {
   "cell_type": "code",
   "execution_count": 6,
   "id": "81d92150",
   "metadata": {},
   "outputs": [],
   "source": [
    "import pandas as pd\n",
    "import numpy as np\n"
   ]
  },
  {
   "cell_type": "code",
   "execution_count": 7,
   "id": "d1267dae",
   "metadata": {},
   "outputs": [],
   "source": [
    "import voila"
   ]
  },
  {
   "cell_type": "code",
   "execution_count": 8,
   "id": "6bfd18bf",
   "metadata": {},
   "outputs": [
    {
     "name": "stderr",
     "output_type": "stream",
     "text": [
      "C:\\Users\\vs\\AppData\\Local\\Temp\\ipykernel_15672\\1203735704.py:1: DtypeWarning: Columns (0,17,18,19,20,21,22,23,24) have mixed types. Specify dtype option on import or set low_memory=False.\n",
      "  anime = pd.read_csv(url,header = None)\n"
     ]
    }
   ],
   "source": [
    "anime = pd.read_csv(url,header = None)"
   ]
  },
  {
   "cell_type": "code",
   "execution_count": 9,
   "id": "42369f0b",
   "metadata": {},
   "outputs": [
    {
     "data": {
      "text/html": [
       "<div>\n",
       "<style scoped>\n",
       "    .dataframe tbody tr th:only-of-type {\n",
       "        vertical-align: middle;\n",
       "    }\n",
       "\n",
       "    .dataframe tbody tr th {\n",
       "        vertical-align: top;\n",
       "    }\n",
       "\n",
       "    .dataframe thead th {\n",
       "        text-align: right;\n",
       "    }\n",
       "</style>\n",
       "<table border=\"1\" class=\"dataframe\">\n",
       "  <thead>\n",
       "    <tr style=\"text-align: right;\">\n",
       "      <th></th>\n",
       "      <th>1</th>\n",
       "      <th>2</th>\n",
       "      <th>3</th>\n",
       "      <th>4</th>\n",
       "      <th>5</th>\n",
       "      <th>6</th>\n",
       "      <th>7</th>\n",
       "      <th>8</th>\n",
       "      <th>9</th>\n",
       "      <th>10</th>\n",
       "      <th>...</th>\n",
       "      <th>15</th>\n",
       "      <th>16</th>\n",
       "      <th>17</th>\n",
       "      <th>18</th>\n",
       "      <th>19</th>\n",
       "      <th>20</th>\n",
       "      <th>21</th>\n",
       "      <th>22</th>\n",
       "      <th>23</th>\n",
       "      <th>24</th>\n",
       "    </tr>\n",
       "  </thead>\n",
       "  <tbody>\n",
       "    <tr>\n",
       "      <th>0</th>\n",
       "      <td>Name</td>\n",
       "      <td>Score</td>\n",
       "      <td>Genres</td>\n",
       "      <td>English name</td>\n",
       "      <td>Japanese name</td>\n",
       "      <td>Type</td>\n",
       "      <td>Episodes</td>\n",
       "      <td>Aired</td>\n",
       "      <td>Premiered</td>\n",
       "      <td>Producers</td>\n",
       "      <td>...</td>\n",
       "      <td>Rating</td>\n",
       "      <td>Ranked</td>\n",
       "      <td>Popularity</td>\n",
       "      <td>Members</td>\n",
       "      <td>Favorites</td>\n",
       "      <td>Watching</td>\n",
       "      <td>Completed</td>\n",
       "      <td>On-Hold</td>\n",
       "      <td>Dropped</td>\n",
       "      <td>Plan to Watch</td>\n",
       "    </tr>\n",
       "    <tr>\n",
       "      <th>1</th>\n",
       "      <td>Cowboy Bebop</td>\n",
       "      <td>8.78</td>\n",
       "      <td>Action, Adventure, Comedy, Drama, Sci-Fi, Space</td>\n",
       "      <td>Cowboy Bebop</td>\n",
       "      <td>カウボーイビバップ</td>\n",
       "      <td>TV</td>\n",
       "      <td>26</td>\n",
       "      <td>Apr 3, 1998 to Apr 24, 1999</td>\n",
       "      <td>Spring 1998</td>\n",
       "      <td>Bandai Visual</td>\n",
       "      <td>...</td>\n",
       "      <td>R - 17+ (violence &amp; profanity)</td>\n",
       "      <td>28.0</td>\n",
       "      <td>39</td>\n",
       "      <td>1251960</td>\n",
       "      <td>61971</td>\n",
       "      <td>105808</td>\n",
       "      <td>718161</td>\n",
       "      <td>71513</td>\n",
       "      <td>26678</td>\n",
       "      <td>329800</td>\n",
       "    </tr>\n",
       "    <tr>\n",
       "      <th>2</th>\n",
       "      <td>Cowboy Bebop: Tengoku no Tobira</td>\n",
       "      <td>8.39</td>\n",
       "      <td>Action, Drama, Mystery, Sci-Fi, Space</td>\n",
       "      <td>Cowboy Bebop:The Movie</td>\n",
       "      <td>カウボーイビバップ 天国の扉</td>\n",
       "      <td>Movie</td>\n",
       "      <td>1</td>\n",
       "      <td>Sep 1, 2001</td>\n",
       "      <td>Unknown</td>\n",
       "      <td>Sunrise, Bandai Visual</td>\n",
       "      <td>...</td>\n",
       "      <td>R - 17+ (violence &amp; profanity)</td>\n",
       "      <td>159.0</td>\n",
       "      <td>518</td>\n",
       "      <td>273145</td>\n",
       "      <td>1174</td>\n",
       "      <td>4143</td>\n",
       "      <td>208333</td>\n",
       "      <td>1935</td>\n",
       "      <td>770</td>\n",
       "      <td>57964</td>\n",
       "    </tr>\n",
       "    <tr>\n",
       "      <th>3</th>\n",
       "      <td>Trigun</td>\n",
       "      <td>8.24</td>\n",
       "      <td>Action, Sci-Fi, Adventure, Comedy, Drama, Shounen</td>\n",
       "      <td>Trigun</td>\n",
       "      <td>トライガン</td>\n",
       "      <td>TV</td>\n",
       "      <td>26</td>\n",
       "      <td>Apr 1, 1998 to Sep 30, 1998</td>\n",
       "      <td>Spring 1998</td>\n",
       "      <td>Victor Entertainment</td>\n",
       "      <td>...</td>\n",
       "      <td>PG-13 - Teens 13 or older</td>\n",
       "      <td>266.0</td>\n",
       "      <td>201</td>\n",
       "      <td>558913</td>\n",
       "      <td>12944</td>\n",
       "      <td>29113</td>\n",
       "      <td>343492</td>\n",
       "      <td>25465</td>\n",
       "      <td>13925</td>\n",
       "      <td>146918</td>\n",
       "    </tr>\n",
       "    <tr>\n",
       "      <th>4</th>\n",
       "      <td>Witch Hunter Robin</td>\n",
       "      <td>7.27</td>\n",
       "      <td>Action, Mystery, Police, Supernatural, Drama, ...</td>\n",
       "      <td>Witch Hunter Robin</td>\n",
       "      <td>Witch Hunter ROBIN (ウイッチハンターロビン)</td>\n",
       "      <td>TV</td>\n",
       "      <td>26</td>\n",
       "      <td>Jul 2, 2002 to Dec 24, 2002</td>\n",
       "      <td>Summer 2002</td>\n",
       "      <td>TV Tokyo, Bandai Visual, Dentsu, Victor Entert...</td>\n",
       "      <td>...</td>\n",
       "      <td>PG-13 - Teens 13 or older</td>\n",
       "      <td>2481.0</td>\n",
       "      <td>1467</td>\n",
       "      <td>94683</td>\n",
       "      <td>587</td>\n",
       "      <td>4300</td>\n",
       "      <td>46165</td>\n",
       "      <td>5121</td>\n",
       "      <td>5378</td>\n",
       "      <td>33719</td>\n",
       "    </tr>\n",
       "    <tr>\n",
       "      <th>...</th>\n",
       "      <td>...</td>\n",
       "      <td>...</td>\n",
       "      <td>...</td>\n",
       "      <td>...</td>\n",
       "      <td>...</td>\n",
       "      <td>...</td>\n",
       "      <td>...</td>\n",
       "      <td>...</td>\n",
       "      <td>...</td>\n",
       "      <td>...</td>\n",
       "      <td>...</td>\n",
       "      <td>...</td>\n",
       "      <td>...</td>\n",
       "      <td>...</td>\n",
       "      <td>...</td>\n",
       "      <td>...</td>\n",
       "      <td>...</td>\n",
       "      <td>...</td>\n",
       "      <td>...</td>\n",
       "      <td>...</td>\n",
       "      <td>...</td>\n",
       "    </tr>\n",
       "    <tr>\n",
       "      <th>17558</th>\n",
       "      <td>Daomu Biji Zhi Qinling Shen Shu</td>\n",
       "      <td>Unknown</td>\n",
       "      <td>Adventure, Mystery, Supernatural</td>\n",
       "      <td>Unknown</td>\n",
       "      <td>盗墓笔记之秦岭神树</td>\n",
       "      <td>ONA</td>\n",
       "      <td>Unknown</td>\n",
       "      <td>Apr 4, 2021 to ?</td>\n",
       "      <td>Unknown</td>\n",
       "      <td>Unknown</td>\n",
       "      <td>...</td>\n",
       "      <td>Unknown</td>\n",
       "      <td>Unknown</td>\n",
       "      <td>13116</td>\n",
       "      <td>354</td>\n",
       "      <td>6</td>\n",
       "      <td>0</td>\n",
       "      <td>0</td>\n",
       "      <td>0</td>\n",
       "      <td>0</td>\n",
       "      <td>354</td>\n",
       "    </tr>\n",
       "    <tr>\n",
       "      <th>17559</th>\n",
       "      <td>Mieruko-chan</td>\n",
       "      <td>Unknown</td>\n",
       "      <td>Comedy, Horror, Supernatural</td>\n",
       "      <td>Unknown</td>\n",
       "      <td>見える子ちゃん</td>\n",
       "      <td>TV</td>\n",
       "      <td>Unknown</td>\n",
       "      <td>2021 to ?</td>\n",
       "      <td>Unknown</td>\n",
       "      <td>Kadokawa</td>\n",
       "      <td>...</td>\n",
       "      <td>Unknown</td>\n",
       "      <td>Unknown</td>\n",
       "      <td>17562</td>\n",
       "      <td>7010</td>\n",
       "      <td>70</td>\n",
       "      <td>14</td>\n",
       "      <td>0</td>\n",
       "      <td>14</td>\n",
       "      <td>0</td>\n",
       "      <td>6982</td>\n",
       "    </tr>\n",
       "    <tr>\n",
       "      <th>17560</th>\n",
       "      <td>Higurashi no Naku Koro ni Sotsu</td>\n",
       "      <td>Unknown</td>\n",
       "      <td>Mystery, Dementia, Horror, Psychological, Supe...</td>\n",
       "      <td>Higurashi:When They Cry – SOTSU</td>\n",
       "      <td>ひぐらしのなく頃に卒</td>\n",
       "      <td>TV</td>\n",
       "      <td>Unknown</td>\n",
       "      <td>Jul, 2021 to ?</td>\n",
       "      <td>Summer 2021</td>\n",
       "      <td>Unknown</td>\n",
       "      <td>...</td>\n",
       "      <td>R - 17+ (violence &amp; profanity)</td>\n",
       "      <td>Unknown</td>\n",
       "      <td>17558</td>\n",
       "      <td>11309</td>\n",
       "      <td>48</td>\n",
       "      <td>3</td>\n",
       "      <td>0</td>\n",
       "      <td>0</td>\n",
       "      <td>0</td>\n",
       "      <td>11306</td>\n",
       "    </tr>\n",
       "    <tr>\n",
       "      <th>17561</th>\n",
       "      <td>Yama no Susume: Next Summit</td>\n",
       "      <td>Unknown</td>\n",
       "      <td>Adventure, Slice of Life, Comedy</td>\n",
       "      <td>Unknown</td>\n",
       "      <td>ヤマノススメ Next Summit</td>\n",
       "      <td>TV</td>\n",
       "      <td>Unknown</td>\n",
       "      <td>Unknown</td>\n",
       "      <td>Unknown</td>\n",
       "      <td>Kadokawa</td>\n",
       "      <td>...</td>\n",
       "      <td>PG-13 - Teens 13 or older</td>\n",
       "      <td>Unknown</td>\n",
       "      <td>17565</td>\n",
       "      <td>1386</td>\n",
       "      <td>2</td>\n",
       "      <td>13</td>\n",
       "      <td>2</td>\n",
       "      <td>2</td>\n",
       "      <td>1</td>\n",
       "      <td>1368</td>\n",
       "    </tr>\n",
       "    <tr>\n",
       "      <th>17562</th>\n",
       "      <td>Scarlet Nexus</td>\n",
       "      <td>Unknown</td>\n",
       "      <td>Action, Fantasy</td>\n",
       "      <td>Unknown</td>\n",
       "      <td>SCARLET NEXUS</td>\n",
       "      <td>TV</td>\n",
       "      <td>Unknown</td>\n",
       "      <td>Jul, 2021 to ?</td>\n",
       "      <td>Summer 2021</td>\n",
       "      <td>Bandai Namco Arts</td>\n",
       "      <td>...</td>\n",
       "      <td>Unknown</td>\n",
       "      <td>Unknown</td>\n",
       "      <td>17563</td>\n",
       "      <td>310</td>\n",
       "      <td>0</td>\n",
       "      <td>4</td>\n",
       "      <td>0</td>\n",
       "      <td>1</td>\n",
       "      <td>1</td>\n",
       "      <td>304</td>\n",
       "    </tr>\n",
       "  </tbody>\n",
       "</table>\n",
       "<p>17563 rows × 24 columns</p>\n",
       "</div>"
      ],
      "text/plain": [
       "                                    1        2   \\\n",
       "0                                 Name    Score   \n",
       "1                         Cowboy Bebop     8.78   \n",
       "2      Cowboy Bebop: Tengoku no Tobira     8.39   \n",
       "3                               Trigun     8.24   \n",
       "4                   Witch Hunter Robin     7.27   \n",
       "...                                ...      ...   \n",
       "17558  Daomu Biji Zhi Qinling Shen Shu  Unknown   \n",
       "17559                     Mieruko-chan  Unknown   \n",
       "17560  Higurashi no Naku Koro ni Sotsu  Unknown   \n",
       "17561      Yama no Susume: Next Summit  Unknown   \n",
       "17562                    Scarlet Nexus  Unknown   \n",
       "\n",
       "                                                      3   \\\n",
       "0                                                 Genres   \n",
       "1        Action, Adventure, Comedy, Drama, Sci-Fi, Space   \n",
       "2                  Action, Drama, Mystery, Sci-Fi, Space   \n",
       "3      Action, Sci-Fi, Adventure, Comedy, Drama, Shounen   \n",
       "4      Action, Mystery, Police, Supernatural, Drama, ...   \n",
       "...                                                  ...   \n",
       "17558                   Adventure, Mystery, Supernatural   \n",
       "17559                       Comedy, Horror, Supernatural   \n",
       "17560  Mystery, Dementia, Horror, Psychological, Supe...   \n",
       "17561                   Adventure, Slice of Life, Comedy   \n",
       "17562                                    Action, Fantasy   \n",
       "\n",
       "                                    4                                 5   \\\n",
       "0                         English name                     Japanese name   \n",
       "1                         Cowboy Bebop                         カウボーイビバップ   \n",
       "2               Cowboy Bebop:The Movie                    カウボーイビバップ 天国の扉   \n",
       "3                               Trigun                             トライガン   \n",
       "4                   Witch Hunter Robin  Witch Hunter ROBIN (ウイッチハンターロビン)   \n",
       "...                                ...                               ...   \n",
       "17558                          Unknown                         盗墓笔记之秦岭神树   \n",
       "17559                          Unknown                           見える子ちゃん   \n",
       "17560  Higurashi:When They Cry – SOTSU                        ひぐらしのなく頃に卒   \n",
       "17561                          Unknown                ヤマノススメ Next Summit   \n",
       "17562                          Unknown                     SCARLET NEXUS   \n",
       "\n",
       "          6         7                            8            9   \\\n",
       "0       Type  Episodes                        Aired    Premiered   \n",
       "1         TV        26  Apr 3, 1998 to Apr 24, 1999  Spring 1998   \n",
       "2      Movie         1                  Sep 1, 2001      Unknown   \n",
       "3         TV        26  Apr 1, 1998 to Sep 30, 1998  Spring 1998   \n",
       "4         TV        26  Jul 2, 2002 to Dec 24, 2002  Summer 2002   \n",
       "...      ...       ...                          ...          ...   \n",
       "17558    ONA   Unknown             Apr 4, 2021 to ?      Unknown   \n",
       "17559     TV   Unknown                    2021 to ?      Unknown   \n",
       "17560     TV   Unknown               Jul, 2021 to ?  Summer 2021   \n",
       "17561     TV   Unknown                      Unknown      Unknown   \n",
       "17562     TV   Unknown               Jul, 2021 to ?  Summer 2021   \n",
       "\n",
       "                                                      10  ...  \\\n",
       "0                                              Producers  ...   \n",
       "1                                          Bandai Visual  ...   \n",
       "2                                 Sunrise, Bandai Visual  ...   \n",
       "3                                   Victor Entertainment  ...   \n",
       "4      TV Tokyo, Bandai Visual, Dentsu, Victor Entert...  ...   \n",
       "...                                                  ...  ...   \n",
       "17558                                            Unknown  ...   \n",
       "17559                                           Kadokawa  ...   \n",
       "17560                                            Unknown  ...   \n",
       "17561                                           Kadokawa  ...   \n",
       "17562                                  Bandai Namco Arts  ...   \n",
       "\n",
       "                                   15       16          17       18  \\\n",
       "0                              Rating   Ranked  Popularity  Members   \n",
       "1      R - 17+ (violence & profanity)     28.0          39  1251960   \n",
       "2      R - 17+ (violence & profanity)    159.0         518   273145   \n",
       "3           PG-13 - Teens 13 or older    266.0         201   558913   \n",
       "4           PG-13 - Teens 13 or older   2481.0        1467    94683   \n",
       "...                               ...      ...         ...      ...   \n",
       "17558                         Unknown  Unknown       13116      354   \n",
       "17559                         Unknown  Unknown       17562     7010   \n",
       "17560  R - 17+ (violence & profanity)  Unknown       17558    11309   \n",
       "17561       PG-13 - Teens 13 or older  Unknown       17565     1386   \n",
       "17562                         Unknown  Unknown       17563      310   \n",
       "\n",
       "              19        20         21       22       23             24  \n",
       "0      Favorites  Watching  Completed  On-Hold  Dropped  Plan to Watch  \n",
       "1          61971    105808     718161    71513    26678         329800  \n",
       "2           1174      4143     208333     1935      770          57964  \n",
       "3          12944     29113     343492    25465    13925         146918  \n",
       "4            587      4300      46165     5121     5378          33719  \n",
       "...          ...       ...        ...      ...      ...            ...  \n",
       "17558          6         0          0        0        0            354  \n",
       "17559         70        14          0       14        0           6982  \n",
       "17560         48         3          0        0        0          11306  \n",
       "17561          2        13          2        2        1           1368  \n",
       "17562          0         4          0        1        1            304  \n",
       "\n",
       "[17563 rows x 24 columns]"
      ]
     },
     "execution_count": 9,
     "metadata": {},
     "output_type": "execute_result"
    }
   ],
   "source": [
    "anime.iloc[:,1:25]"
   ]
  },
  {
   "cell_type": "code",
   "execution_count": 10,
   "id": "94c910ad",
   "metadata": {},
   "outputs": [],
   "source": [
    "# Start data pre-proccessing"
   ]
  },
  {
   "cell_type": "code",
   "execution_count": 11,
   "id": "415a7255",
   "metadata": {},
   "outputs": [],
   "source": [
    "column_names = anime.iloc[0,:]"
   ]
  },
  {
   "cell_type": "code",
   "execution_count": 12,
   "id": "be07958c",
   "metadata": {},
   "outputs": [],
   "source": [
    "anime.columns = column_names"
   ]
  },
  {
   "cell_type": "code",
   "execution_count": 13,
   "id": "a4e1c210",
   "metadata": {},
   "outputs": [],
   "source": [
    "anime = anime.drop(0)"
   ]
  },
  {
   "cell_type": "code",
   "execution_count": 14,
   "id": "a7e530f8",
   "metadata": {},
   "outputs": [
    {
     "data": {
      "text/plain": [
       "1            1\n",
       "2            5\n",
       "3            6\n",
       "4            7\n",
       "5            8\n",
       "         ...  \n",
       "17558    48481\n",
       "17559    48483\n",
       "17560    48488\n",
       "17561    48491\n",
       "17562    48492\n",
       "Name: MAL_ID, Length: 17562, dtype: int64"
      ]
     },
     "execution_count": 14,
     "metadata": {},
     "output_type": "execute_result"
    }
   ],
   "source": [
    "anime.iloc[:,0] = pd.to_numeric(anime.iloc[:,0])\n",
    "anime.iloc[:,0]"
   ]
  },
  {
   "cell_type": "code",
   "execution_count": 15,
   "id": "3f1685ab",
   "metadata": {},
   "outputs": [],
   "source": [
    "c1 = anime.iloc[:,2] == \"Unknown\"\n"
   ]
  },
  {
   "cell_type": "code",
   "execution_count": 16,
   "id": "c8893ec5",
   "metadata": {},
   "outputs": [
    {
     "data": {
      "text/plain": [
       "False    12421\n",
       "True      5141\n",
       "Name: Score, dtype: int64"
      ]
     },
     "execution_count": 16,
     "metadata": {},
     "output_type": "execute_result"
    }
   ],
   "source": [
    "c1.value_counts()"
   ]
  },
  {
   "cell_type": "code",
   "execution_count": 17,
   "id": "a6ad0e85",
   "metadata": {},
   "outputs": [],
   "source": [
    "c1.loc[c1 == True] = np.nan"
   ]
  },
  {
   "cell_type": "code",
   "execution_count": 18,
   "id": "3ac4c4ed",
   "metadata": {},
   "outputs": [],
   "source": [
    "anime.loc[anime.iloc[:,2] == \"Unknown\" , \"Score\"] = np.nan"
   ]
  },
  {
   "cell_type": "code",
   "execution_count": 19,
   "id": "b3396bae",
   "metadata": {},
   "outputs": [],
   "source": [
    "anime.iloc[:,2] = pd.to_numeric(anime.iloc[:,2])"
   ]
  },
  {
   "cell_type": "code",
   "execution_count": 20,
   "id": "2a8d440d",
   "metadata": {},
   "outputs": [
    {
     "data": {
      "text/plain": [
       "1        8.78\n",
       "2        8.39\n",
       "3        8.24\n",
       "4        7.27\n",
       "5        6.98\n",
       "         ... \n",
       "17558     NaN\n",
       "17559     NaN\n",
       "17560     NaN\n",
       "17561     NaN\n",
       "17562     NaN\n",
       "Name: Score, Length: 17562, dtype: float64"
      ]
     },
     "execution_count": 20,
     "metadata": {},
     "output_type": "execute_result"
    }
   ],
   "source": [
    "anime.iloc[:,2]"
   ]
  },
  {
   "cell_type": "code",
   "execution_count": 21,
   "id": "b6d03343",
   "metadata": {},
   "outputs": [],
   "source": [
    "anime.loc[anime.loc[:,\"Episodes\"] == \"Unknown\" , \"Episodes\"] = np.nan"
   ]
  },
  {
   "cell_type": "code",
   "execution_count": 22,
   "id": "cb77e6bf",
   "metadata": {},
   "outputs": [],
   "source": [
    "anime.loc[:,\"Episodes\"] = pd.to_numeric(anime.loc[:,\"Episodes\"])"
   ]
  },
  {
   "cell_type": "code",
   "execution_count": 23,
   "id": "8823f2a2",
   "metadata": {},
   "outputs": [
    {
     "data": {
      "text/plain": [
       "1        26.0\n",
       "2         1.0\n",
       "3        26.0\n",
       "4        26.0\n",
       "5        52.0\n",
       "         ... \n",
       "17558     NaN\n",
       "17559     NaN\n",
       "17560     NaN\n",
       "17561     NaN\n",
       "17562     NaN\n",
       "Name: Episodes, Length: 17562, dtype: float64"
      ]
     },
     "execution_count": 23,
     "metadata": {},
     "output_type": "execute_result"
    }
   ],
   "source": [
    "anime.loc[:,\"Episodes\"]"
   ]
  },
  {
   "cell_type": "code",
   "execution_count": 24,
   "id": "11aee6a0",
   "metadata": {},
   "outputs": [],
   "source": [
    "anime.loc[anime.loc[:,\"Ranked\"] == \"Unknown\" , \"Ranked\"] = np.nan"
   ]
  },
  {
   "cell_type": "code",
   "execution_count": 25,
   "id": "ec49409a",
   "metadata": {},
   "outputs": [],
   "source": [
    "anime.loc[:,\"Ranked\"] = pd.to_numeric(anime.loc[:,\"Ranked\"])"
   ]
  },
  {
   "cell_type": "code",
   "execution_count": 26,
   "id": "cb4aa875",
   "metadata": {},
   "outputs": [
    {
     "data": {
      "text/plain": [
       "1          28.0\n",
       "2         159.0\n",
       "3         266.0\n",
       "4        2481.0\n",
       "5        3710.0\n",
       "          ...  \n",
       "17558       NaN\n",
       "17559       NaN\n",
       "17560       NaN\n",
       "17561       NaN\n",
       "17562       NaN\n",
       "Name: Ranked, Length: 17562, dtype: float64"
      ]
     },
     "execution_count": 26,
     "metadata": {},
     "output_type": "execute_result"
    }
   ],
   "source": [
    "anime.loc[:,\"Ranked\"]"
   ]
  },
  {
   "cell_type": "code",
   "execution_count": 27,
   "id": "3bf45e77",
   "metadata": {},
   "outputs": [],
   "source": [
    "anime.loc[:,\"Popularity\"] = pd.to_numeric(anime.loc[:,\"Popularity\"])"
   ]
  },
  {
   "cell_type": "code",
   "execution_count": 28,
   "id": "c5770c06",
   "metadata": {},
   "outputs": [
    {
     "data": {
      "text/plain": [
       "1           39\n",
       "2          518\n",
       "3          201\n",
       "4         1467\n",
       "5         4369\n",
       "         ...  \n",
       "17558    13116\n",
       "17559    17562\n",
       "17560    17558\n",
       "17561    17565\n",
       "17562    17563\n",
       "Name: Popularity, Length: 17562, dtype: int64"
      ]
     },
     "execution_count": 28,
     "metadata": {},
     "output_type": "execute_result"
    }
   ],
   "source": [
    "anime.loc[:,\"Popularity\"]"
   ]
  },
  {
   "cell_type": "code",
   "execution_count": 29,
   "id": "02adf4ad",
   "metadata": {},
   "outputs": [],
   "source": [
    "anime.loc[:,\"Members\"] = pd.to_numeric(anime.loc[:,\"Members\"])"
   ]
  },
  {
   "cell_type": "code",
   "execution_count": 30,
   "id": "7fe83fb6",
   "metadata": {},
   "outputs": [
    {
     "data": {
      "text/plain": [
       "1        1251960\n",
       "2         273145\n",
       "3         558913\n",
       "4          94683\n",
       "5          13224\n",
       "          ...   \n",
       "17558        354\n",
       "17559       7010\n",
       "17560      11309\n",
       "17561       1386\n",
       "17562        310\n",
       "Name: Members, Length: 17562, dtype: int64"
      ]
     },
     "execution_count": 30,
     "metadata": {},
     "output_type": "execute_result"
    }
   ],
   "source": [
    "anime.loc[:,\"Members\"]"
   ]
  },
  {
   "cell_type": "code",
   "execution_count": 31,
   "id": "88a334bf",
   "metadata": {},
   "outputs": [],
   "source": [
    "anime.loc[:,\"Favorites\"] = pd.to_numeric(anime.loc[:,\"Favorites\"])"
   ]
  },
  {
   "cell_type": "code",
   "execution_count": 32,
   "id": "3446e2fd",
   "metadata": {},
   "outputs": [
    {
     "data": {
      "text/plain": [
       "1        61971\n",
       "2         1174\n",
       "3        12944\n",
       "4          587\n",
       "5           18\n",
       "         ...  \n",
       "17558        6\n",
       "17559       70\n",
       "17560       48\n",
       "17561        2\n",
       "17562        0\n",
       "Name: Favorites, Length: 17562, dtype: int64"
      ]
     },
     "execution_count": 32,
     "metadata": {},
     "output_type": "execute_result"
    }
   ],
   "source": [
    "anime.loc[:,\"Favorites\"]"
   ]
  },
  {
   "cell_type": "code",
   "execution_count": 33,
   "id": "7b177d8f",
   "metadata": {},
   "outputs": [],
   "source": [
    "anime.loc[:,\"Watching\"] = pd.to_numeric(anime.loc[:,\"Watching\"])"
   ]
  },
  {
   "cell_type": "code",
   "execution_count": 34,
   "id": "99d6f75e",
   "metadata": {},
   "outputs": [
    {
     "data": {
      "text/plain": [
       "1        105808\n",
       "2          4143\n",
       "3         29113\n",
       "4          4300\n",
       "5           642\n",
       "          ...  \n",
       "17558         0\n",
       "17559        14\n",
       "17560         3\n",
       "17561        13\n",
       "17562         4\n",
       "Name: Watching, Length: 17562, dtype: int64"
      ]
     },
     "execution_count": 34,
     "metadata": {},
     "output_type": "execute_result"
    }
   ],
   "source": [
    "anime.loc[:,\"Watching\"]"
   ]
  },
  {
   "cell_type": "code",
   "execution_count": 35,
   "id": "75f3e999",
   "metadata": {},
   "outputs": [],
   "source": [
    "anime.loc[:,\"Completed\"] = pd.to_numeric(anime.loc[:,\"Completed\"])"
   ]
  },
  {
   "cell_type": "code",
   "execution_count": 36,
   "id": "c2f08ac7",
   "metadata": {},
   "outputs": [
    {
     "data": {
      "text/plain": [
       "1        718161\n",
       "2        208333\n",
       "3        343492\n",
       "4         46165\n",
       "5          7314\n",
       "          ...  \n",
       "17558         0\n",
       "17559         0\n",
       "17560         0\n",
       "17561         2\n",
       "17562         0\n",
       "Name: Completed, Length: 17562, dtype: int64"
      ]
     },
     "execution_count": 36,
     "metadata": {},
     "output_type": "execute_result"
    }
   ],
   "source": [
    "anime.loc[:,\"Completed\"]"
   ]
  },
  {
   "cell_type": "code",
   "execution_count": 37,
   "id": "a8ba46c6",
   "metadata": {},
   "outputs": [],
   "source": [
    "anime.loc[:,\"On-Hold\"] = pd.to_numeric(anime.loc[:,\"On-Hold\"])"
   ]
  },
  {
   "cell_type": "code",
   "execution_count": 38,
   "id": "c5e7b862",
   "metadata": {},
   "outputs": [
    {
     "data": {
      "text/plain": [
       "1        71513\n",
       "2         1935\n",
       "3        25465\n",
       "4         5121\n",
       "5          766\n",
       "         ...  \n",
       "17558        0\n",
       "17559       14\n",
       "17560        0\n",
       "17561        2\n",
       "17562        1\n",
       "Name: On-Hold, Length: 17562, dtype: int64"
      ]
     },
     "execution_count": 38,
     "metadata": {},
     "output_type": "execute_result"
    }
   ],
   "source": [
    "anime.loc[:,\"On-Hold\"]"
   ]
  },
  {
   "cell_type": "code",
   "execution_count": 39,
   "id": "b836088c",
   "metadata": {},
   "outputs": [],
   "source": [
    "anime.loc[:,\"Dropped\"] = pd.to_numeric(anime.loc[:,\"Dropped\"])"
   ]
  },
  {
   "cell_type": "code",
   "execution_count": 40,
   "id": "6bb572bf",
   "metadata": {},
   "outputs": [
    {
     "data": {
      "text/plain": [
       "1        26678\n",
       "2          770\n",
       "3        13925\n",
       "4         5378\n",
       "5         1108\n",
       "         ...  \n",
       "17558        0\n",
       "17559        0\n",
       "17560        0\n",
       "17561        1\n",
       "17562        1\n",
       "Name: Dropped, Length: 17562, dtype: int64"
      ]
     },
     "execution_count": 40,
     "metadata": {},
     "output_type": "execute_result"
    }
   ],
   "source": [
    "anime.loc[:,\"Dropped\"]"
   ]
  },
  {
   "cell_type": "code",
   "execution_count": 41,
   "id": "7e12e45f",
   "metadata": {},
   "outputs": [],
   "source": [
    "anime.loc[:,\"Plan to Watch\"] = pd.to_numeric(anime.loc[:,\"Plan to Watch\"])"
   ]
  },
  {
   "cell_type": "code",
   "execution_count": 42,
   "id": "e297a334",
   "metadata": {},
   "outputs": [
    {
     "data": {
      "text/plain": [
       "1        329800\n",
       "2         57964\n",
       "3        146918\n",
       "4         33719\n",
       "5          3394\n",
       "          ...  \n",
       "17558       354\n",
       "17559      6982\n",
       "17560     11306\n",
       "17561      1368\n",
       "17562       304\n",
       "Name: Plan to Watch, Length: 17562, dtype: int64"
      ]
     },
     "execution_count": 42,
     "metadata": {},
     "output_type": "execute_result"
    }
   ],
   "source": [
    "anime.loc[:,\"Plan to Watch\"]"
   ]
  },
  {
   "cell_type": "code",
   "execution_count": 43,
   "id": "ea29f36c",
   "metadata": {},
   "outputs": [
    {
     "data": {
      "text/html": [
       "<div>\n",
       "<style scoped>\n",
       "    .dataframe tbody tr th:only-of-type {\n",
       "        vertical-align: middle;\n",
       "    }\n",
       "\n",
       "    .dataframe tbody tr th {\n",
       "        vertical-align: top;\n",
       "    }\n",
       "\n",
       "    .dataframe thead th {\n",
       "        text-align: right;\n",
       "    }\n",
       "</style>\n",
       "<table border=\"1\" class=\"dataframe\">\n",
       "  <thead>\n",
       "    <tr style=\"text-align: right;\">\n",
       "      <th></th>\n",
       "      <th>Score-10</th>\n",
       "      <th>Score-9</th>\n",
       "      <th>Score-8</th>\n",
       "      <th>Score-7</th>\n",
       "      <th>Score-6</th>\n",
       "      <th>Score-5</th>\n",
       "      <th>Score-4</th>\n",
       "      <th>Score-3</th>\n",
       "      <th>Score-2</th>\n",
       "      <th>Score-1</th>\n",
       "    </tr>\n",
       "  </thead>\n",
       "  <tbody>\n",
       "    <tr>\n",
       "      <th>1</th>\n",
       "      <td>229170.0</td>\n",
       "      <td>182126.0</td>\n",
       "      <td>131625.0</td>\n",
       "      <td>62330.0</td>\n",
       "      <td>20688.0</td>\n",
       "      <td>8904.0</td>\n",
       "      <td>3184.0</td>\n",
       "      <td>1357.0</td>\n",
       "      <td>741.0</td>\n",
       "      <td>1580.0</td>\n",
       "    </tr>\n",
       "    <tr>\n",
       "      <th>2</th>\n",
       "      <td>30043.0</td>\n",
       "      <td>49201.0</td>\n",
       "      <td>49505.0</td>\n",
       "      <td>22632.0</td>\n",
       "      <td>5805.0</td>\n",
       "      <td>1877.0</td>\n",
       "      <td>577.0</td>\n",
       "      <td>221.0</td>\n",
       "      <td>109.0</td>\n",
       "      <td>379.0</td>\n",
       "    </tr>\n",
       "    <tr>\n",
       "      <th>3</th>\n",
       "      <td>50229.0</td>\n",
       "      <td>75651.0</td>\n",
       "      <td>86142.0</td>\n",
       "      <td>49432.0</td>\n",
       "      <td>15376.0</td>\n",
       "      <td>5838.0</td>\n",
       "      <td>1965.0</td>\n",
       "      <td>664.0</td>\n",
       "      <td>316.0</td>\n",
       "      <td>533.0</td>\n",
       "    </tr>\n",
       "    <tr>\n",
       "      <th>4</th>\n",
       "      <td>2182.0</td>\n",
       "      <td>4806.0</td>\n",
       "      <td>10128.0</td>\n",
       "      <td>11618.0</td>\n",
       "      <td>5709.0</td>\n",
       "      <td>2920.0</td>\n",
       "      <td>1083.0</td>\n",
       "      <td>353.0</td>\n",
       "      <td>164.0</td>\n",
       "      <td>131.0</td>\n",
       "    </tr>\n",
       "    <tr>\n",
       "      <th>5</th>\n",
       "      <td>312.0</td>\n",
       "      <td>529.0</td>\n",
       "      <td>1242.0</td>\n",
       "      <td>1713.0</td>\n",
       "      <td>1068.0</td>\n",
       "      <td>634.0</td>\n",
       "      <td>265.0</td>\n",
       "      <td>83.0</td>\n",
       "      <td>50.0</td>\n",
       "      <td>27.0</td>\n",
       "    </tr>\n",
       "    <tr>\n",
       "      <th>...</th>\n",
       "      <td>...</td>\n",
       "      <td>...</td>\n",
       "      <td>...</td>\n",
       "      <td>...</td>\n",
       "      <td>...</td>\n",
       "      <td>...</td>\n",
       "      <td>...</td>\n",
       "      <td>...</td>\n",
       "      <td>...</td>\n",
       "      <td>...</td>\n",
       "    </tr>\n",
       "    <tr>\n",
       "      <th>17558</th>\n",
       "      <td>Unknown</td>\n",
       "      <td>Unknown</td>\n",
       "      <td>Unknown</td>\n",
       "      <td>1.0</td>\n",
       "      <td>Unknown</td>\n",
       "      <td>Unknown</td>\n",
       "      <td>Unknown</td>\n",
       "      <td>Unknown</td>\n",
       "      <td>Unknown</td>\n",
       "      <td>Unknown</td>\n",
       "    </tr>\n",
       "    <tr>\n",
       "      <th>17559</th>\n",
       "      <td>Unknown</td>\n",
       "      <td>Unknown</td>\n",
       "      <td>Unknown</td>\n",
       "      <td>Unknown</td>\n",
       "      <td>Unknown</td>\n",
       "      <td>Unknown</td>\n",
       "      <td>Unknown</td>\n",
       "      <td>Unknown</td>\n",
       "      <td>Unknown</td>\n",
       "      <td>Unknown</td>\n",
       "    </tr>\n",
       "    <tr>\n",
       "      <th>17560</th>\n",
       "      <td>1.0</td>\n",
       "      <td>Unknown</td>\n",
       "      <td>Unknown</td>\n",
       "      <td>Unknown</td>\n",
       "      <td>Unknown</td>\n",
       "      <td>Unknown</td>\n",
       "      <td>Unknown</td>\n",
       "      <td>Unknown</td>\n",
       "      <td>Unknown</td>\n",
       "      <td>Unknown</td>\n",
       "    </tr>\n",
       "    <tr>\n",
       "      <th>17561</th>\n",
       "      <td>Unknown</td>\n",
       "      <td>Unknown</td>\n",
       "      <td>Unknown</td>\n",
       "      <td>Unknown</td>\n",
       "      <td>Unknown</td>\n",
       "      <td>Unknown</td>\n",
       "      <td>Unknown</td>\n",
       "      <td>Unknown</td>\n",
       "      <td>Unknown</td>\n",
       "      <td>Unknown</td>\n",
       "    </tr>\n",
       "    <tr>\n",
       "      <th>17562</th>\n",
       "      <td>Unknown</td>\n",
       "      <td>Unknown</td>\n",
       "      <td>Unknown</td>\n",
       "      <td>Unknown</td>\n",
       "      <td>Unknown</td>\n",
       "      <td>Unknown</td>\n",
       "      <td>Unknown</td>\n",
       "      <td>Unknown</td>\n",
       "      <td>Unknown</td>\n",
       "      <td>Unknown</td>\n",
       "    </tr>\n",
       "  </tbody>\n",
       "</table>\n",
       "<p>17562 rows × 10 columns</p>\n",
       "</div>"
      ],
      "text/plain": [
       "0      Score-10   Score-9   Score-8  Score-7  Score-6  Score-5  Score-4  \\\n",
       "1      229170.0  182126.0  131625.0  62330.0  20688.0   8904.0   3184.0   \n",
       "2       30043.0   49201.0   49505.0  22632.0   5805.0   1877.0    577.0   \n",
       "3       50229.0   75651.0   86142.0  49432.0  15376.0   5838.0   1965.0   \n",
       "4        2182.0    4806.0   10128.0  11618.0   5709.0   2920.0   1083.0   \n",
       "5         312.0     529.0    1242.0   1713.0   1068.0    634.0    265.0   \n",
       "...         ...       ...       ...      ...      ...      ...      ...   \n",
       "17558   Unknown   Unknown   Unknown      1.0  Unknown  Unknown  Unknown   \n",
       "17559   Unknown   Unknown   Unknown  Unknown  Unknown  Unknown  Unknown   \n",
       "17560       1.0   Unknown   Unknown  Unknown  Unknown  Unknown  Unknown   \n",
       "17561   Unknown   Unknown   Unknown  Unknown  Unknown  Unknown  Unknown   \n",
       "17562   Unknown   Unknown   Unknown  Unknown  Unknown  Unknown  Unknown   \n",
       "\n",
       "0      Score-3  Score-2  Score-1  \n",
       "1       1357.0    741.0   1580.0  \n",
       "2        221.0    109.0    379.0  \n",
       "3        664.0    316.0    533.0  \n",
       "4        353.0    164.0    131.0  \n",
       "5         83.0     50.0     27.0  \n",
       "...        ...      ...      ...  \n",
       "17558  Unknown  Unknown  Unknown  \n",
       "17559  Unknown  Unknown  Unknown  \n",
       "17560  Unknown  Unknown  Unknown  \n",
       "17561  Unknown  Unknown  Unknown  \n",
       "17562  Unknown  Unknown  Unknown  \n",
       "\n",
       "[17562 rows x 10 columns]"
      ]
     },
     "execution_count": 43,
     "metadata": {},
     "output_type": "execute_result"
    }
   ],
   "source": [
    "anime.iloc[:,25:35]"
   ]
  },
  {
   "cell_type": "code",
   "execution_count": 44,
   "id": "9f60fde1",
   "metadata": {},
   "outputs": [],
   "source": [
    "anime.loc[anime.loc[:,\"Score-10\"] == \"Unknown\" , \"Score-10\"] = np.nan"
   ]
  },
  {
   "cell_type": "code",
   "execution_count": 45,
   "id": "e79f6b0c",
   "metadata": {},
   "outputs": [],
   "source": [
    "anime.loc[:,\"Score-10\"] = pd.to_numeric(anime.loc[:,\"Score-10\"])"
   ]
  },
  {
   "cell_type": "code",
   "execution_count": 46,
   "id": "fa652fb8",
   "metadata": {},
   "outputs": [
    {
     "data": {
      "text/plain": [
       "1        229170.0\n",
       "2         30043.0\n",
       "3         50229.0\n",
       "4          2182.0\n",
       "5           312.0\n",
       "           ...   \n",
       "17558         NaN\n",
       "17559         NaN\n",
       "17560         1.0\n",
       "17561         NaN\n",
       "17562         NaN\n",
       "Name: Score-10, Length: 17562, dtype: float64"
      ]
     },
     "execution_count": 46,
     "metadata": {},
     "output_type": "execute_result"
    }
   ],
   "source": [
    "anime.loc[:,\"Score-10\"]"
   ]
  },
  {
   "cell_type": "code",
   "execution_count": 47,
   "id": "0b5c9b2b",
   "metadata": {},
   "outputs": [
    {
     "data": {
      "text/plain": [
       "1        182126.0\n",
       "2         49201.0\n",
       "3         75651.0\n",
       "4          4806.0\n",
       "5           529.0\n",
       "           ...   \n",
       "17558         NaN\n",
       "17559         NaN\n",
       "17560         NaN\n",
       "17561         NaN\n",
       "17562         NaN\n",
       "Name: Score-9, Length: 17562, dtype: float64"
      ]
     },
     "execution_count": 47,
     "metadata": {},
     "output_type": "execute_result"
    }
   ],
   "source": [
    "anime.loc[anime.loc[:,\"Score-9\"] == \"Unknown\" , \"Score-9\"] = np.nan\n",
    "anime.loc[:,\"Score-9\"] = pd.to_numeric(anime.loc[:,\"Score-9\"])\n",
    "anime.loc[:,\"Score-9\"]"
   ]
  },
  {
   "cell_type": "code",
   "execution_count": 48,
   "id": "feac0fa8",
   "metadata": {},
   "outputs": [
    {
     "data": {
      "text/plain": [
       "1        131625.0\n",
       "2         49505.0\n",
       "3         86142.0\n",
       "4         10128.0\n",
       "5          1242.0\n",
       "           ...   \n",
       "17558         NaN\n",
       "17559         NaN\n",
       "17560         NaN\n",
       "17561         NaN\n",
       "17562         NaN\n",
       "Name: Score-8, Length: 17562, dtype: float64"
      ]
     },
     "execution_count": 48,
     "metadata": {},
     "output_type": "execute_result"
    }
   ],
   "source": [
    "anime.loc[anime.loc[:,\"Score-8\"] == \"Unknown\" , \"Score-8\"] = np.nan\n",
    "anime.loc[:,\"Score-8\"] = pd.to_numeric(anime.loc[:,\"Score-8\"])\n",
    "anime.loc[:,\"Score-8\"]"
   ]
  },
  {
   "cell_type": "code",
   "execution_count": 49,
   "id": "3d5b00f3",
   "metadata": {},
   "outputs": [
    {
     "data": {
      "text/plain": [
       "1        62330.0\n",
       "2        22632.0\n",
       "3        49432.0\n",
       "4        11618.0\n",
       "5         1713.0\n",
       "          ...   \n",
       "17558        1.0\n",
       "17559        NaN\n",
       "17560        NaN\n",
       "17561        NaN\n",
       "17562        NaN\n",
       "Name: Score-7, Length: 17562, dtype: float64"
      ]
     },
     "execution_count": 49,
     "metadata": {},
     "output_type": "execute_result"
    }
   ],
   "source": [
    "anime.loc[anime.loc[:,\"Score-7\"] == \"Unknown\" , \"Score-7\"] = np.nan\n",
    "anime.loc[:,\"Score-7\"] = pd.to_numeric(anime.loc[:,\"Score-7\"])\n",
    "anime.loc[:,\"Score-7\"]"
   ]
  },
  {
   "cell_type": "code",
   "execution_count": 50,
   "id": "a46b4957",
   "metadata": {},
   "outputs": [
    {
     "data": {
      "text/plain": [
       "1        20688.0\n",
       "2         5805.0\n",
       "3        15376.0\n",
       "4         5709.0\n",
       "5         1068.0\n",
       "          ...   \n",
       "17558        NaN\n",
       "17559        NaN\n",
       "17560        NaN\n",
       "17561        NaN\n",
       "17562        NaN\n",
       "Name: Score-6, Length: 17562, dtype: float64"
      ]
     },
     "execution_count": 50,
     "metadata": {},
     "output_type": "execute_result"
    }
   ],
   "source": [
    "anime.loc[anime.loc[:,\"Score-6\"] == \"Unknown\" , \"Score-6\"] = np.nan\n",
    "anime.loc[:,\"Score-6\"] = pd.to_numeric(anime.loc[:,\"Score-6\"])\n",
    "anime.loc[:,\"Score-6\"]"
   ]
  },
  {
   "cell_type": "code",
   "execution_count": 51,
   "id": "8b6d5a26",
   "metadata": {},
   "outputs": [
    {
     "data": {
      "text/plain": [
       "1        8904.0\n",
       "2        1877.0\n",
       "3        5838.0\n",
       "4        2920.0\n",
       "5         634.0\n",
       "          ...  \n",
       "17558       NaN\n",
       "17559       NaN\n",
       "17560       NaN\n",
       "17561       NaN\n",
       "17562       NaN\n",
       "Name: Score-5, Length: 17562, dtype: float64"
      ]
     },
     "execution_count": 51,
     "metadata": {},
     "output_type": "execute_result"
    }
   ],
   "source": [
    "anime.loc[anime.loc[:,\"Score-5\"] == \"Unknown\" , \"Score-5\"] = np.nan\n",
    "anime.loc[:,\"Score-5\"] = pd.to_numeric(anime.loc[:,\"Score-5\"])\n",
    "anime.loc[:,\"Score-5\"]"
   ]
  },
  {
   "cell_type": "code",
   "execution_count": 52,
   "id": "f0c8aaa6",
   "metadata": {},
   "outputs": [
    {
     "data": {
      "text/plain": [
       "1        3184.0\n",
       "2         577.0\n",
       "3        1965.0\n",
       "4        1083.0\n",
       "5         265.0\n",
       "          ...  \n",
       "17558       NaN\n",
       "17559       NaN\n",
       "17560       NaN\n",
       "17561       NaN\n",
       "17562       NaN\n",
       "Name: Score-4, Length: 17562, dtype: float64"
      ]
     },
     "execution_count": 52,
     "metadata": {},
     "output_type": "execute_result"
    }
   ],
   "source": [
    "anime.loc[anime.loc[:,\"Score-4\"] == \"Unknown\" , \"Score-4\"] = np.nan\n",
    "anime.loc[:,\"Score-4\"] = pd.to_numeric(anime.loc[:,\"Score-4\"])\n",
    "anime.loc[:,\"Score-4\"]"
   ]
  },
  {
   "cell_type": "code",
   "execution_count": 53,
   "id": "1b4a2822",
   "metadata": {},
   "outputs": [
    {
     "data": {
      "text/plain": [
       "1        1357.0\n",
       "2         221.0\n",
       "3         664.0\n",
       "4         353.0\n",
       "5          83.0\n",
       "          ...  \n",
       "17558       NaN\n",
       "17559       NaN\n",
       "17560       NaN\n",
       "17561       NaN\n",
       "17562       NaN\n",
       "Name: Score-3, Length: 17562, dtype: float64"
      ]
     },
     "execution_count": 53,
     "metadata": {},
     "output_type": "execute_result"
    }
   ],
   "source": [
    "anime.loc[anime.loc[:,\"Score-3\"] == \"Unknown\" , \"Score-3\"] = np.nan\n",
    "anime.loc[:,\"Score-3\"] = pd.to_numeric(anime.loc[:,\"Score-3\"])\n",
    "anime.loc[:,\"Score-3\"]"
   ]
  },
  {
   "cell_type": "code",
   "execution_count": 54,
   "id": "91f026d1",
   "metadata": {},
   "outputs": [
    {
     "data": {
      "text/plain": [
       "1        741.0\n",
       "2        109.0\n",
       "3        316.0\n",
       "4        164.0\n",
       "5         50.0\n",
       "         ...  \n",
       "17558      NaN\n",
       "17559      NaN\n",
       "17560      NaN\n",
       "17561      NaN\n",
       "17562      NaN\n",
       "Name: Score-2, Length: 17562, dtype: float64"
      ]
     },
     "execution_count": 54,
     "metadata": {},
     "output_type": "execute_result"
    }
   ],
   "source": [
    "anime.loc[anime.loc[:,\"Score-2\"] == \"Unknown\" , \"Score-2\"] = np.nan\n",
    "anime.loc[:,\"Score-2\"] = pd.to_numeric(anime.loc[:,\"Score-2\"])\n",
    "anime.loc[:,\"Score-2\"]"
   ]
  },
  {
   "cell_type": "code",
   "execution_count": 55,
   "id": "63476ac3",
   "metadata": {},
   "outputs": [
    {
     "data": {
      "text/plain": [
       "1        1580.0\n",
       "2         379.0\n",
       "3         533.0\n",
       "4         131.0\n",
       "5          27.0\n",
       "          ...  \n",
       "17558       NaN\n",
       "17559       NaN\n",
       "17560       NaN\n",
       "17561       NaN\n",
       "17562       NaN\n",
       "Name: Score-1, Length: 17562, dtype: float64"
      ]
     },
     "execution_count": 55,
     "metadata": {},
     "output_type": "execute_result"
    }
   ],
   "source": [
    "anime.loc[anime.loc[:,\"Score-1\"] == \"Unknown\" , \"Score-1\"] = np.nan\n",
    "anime.loc[:,\"Score-1\"] = pd.to_numeric(anime.loc[:,\"Score-1\"])\n",
    "anime.loc[:,\"Score-1\"]"
   ]
  },
  {
   "cell_type": "code",
   "execution_count": 56,
   "id": "2d6b319b",
   "metadata": {},
   "outputs": [
    {
     "data": {
      "text/html": [
       "<div>\n",
       "<style scoped>\n",
       "    .dataframe tbody tr th:only-of-type {\n",
       "        vertical-align: middle;\n",
       "    }\n",
       "\n",
       "    .dataframe tbody tr th {\n",
       "        vertical-align: top;\n",
       "    }\n",
       "\n",
       "    .dataframe thead th {\n",
       "        text-align: right;\n",
       "    }\n",
       "</style>\n",
       "<table border=\"1\" class=\"dataframe\">\n",
       "  <thead>\n",
       "    <tr style=\"text-align: right;\">\n",
       "      <th></th>\n",
       "      <th>MAL_ID</th>\n",
       "      <th>Name</th>\n",
       "      <th>Score</th>\n",
       "      <th>Genres</th>\n",
       "      <th>English name</th>\n",
       "      <th>Japanese name</th>\n",
       "      <th>Type</th>\n",
       "      <th>Episodes</th>\n",
       "      <th>Aired</th>\n",
       "      <th>Premiered</th>\n",
       "      <th>...</th>\n",
       "      <th>Score-10</th>\n",
       "      <th>Score-9</th>\n",
       "      <th>Score-8</th>\n",
       "      <th>Score-7</th>\n",
       "      <th>Score-6</th>\n",
       "      <th>Score-5</th>\n",
       "      <th>Score-4</th>\n",
       "      <th>Score-3</th>\n",
       "      <th>Score-2</th>\n",
       "      <th>Score-1</th>\n",
       "    </tr>\n",
       "  </thead>\n",
       "  <tbody>\n",
       "    <tr>\n",
       "      <th>1</th>\n",
       "      <td>1</td>\n",
       "      <td>Cowboy Bebop</td>\n",
       "      <td>8.78</td>\n",
       "      <td>Action, Adventure, Comedy, Drama, Sci-Fi, Space</td>\n",
       "      <td>Cowboy Bebop</td>\n",
       "      <td>カウボーイビバップ</td>\n",
       "      <td>TV</td>\n",
       "      <td>26.0</td>\n",
       "      <td>Apr 3, 1998 to Apr 24, 1999</td>\n",
       "      <td>Spring 1998</td>\n",
       "      <td>...</td>\n",
       "      <td>229170.0</td>\n",
       "      <td>182126.0</td>\n",
       "      <td>131625.0</td>\n",
       "      <td>62330.0</td>\n",
       "      <td>20688.0</td>\n",
       "      <td>8904.0</td>\n",
       "      <td>3184.0</td>\n",
       "      <td>1357.0</td>\n",
       "      <td>741.0</td>\n",
       "      <td>1580.0</td>\n",
       "    </tr>\n",
       "    <tr>\n",
       "      <th>2</th>\n",
       "      <td>5</td>\n",
       "      <td>Cowboy Bebop: Tengoku no Tobira</td>\n",
       "      <td>8.39</td>\n",
       "      <td>Action, Drama, Mystery, Sci-Fi, Space</td>\n",
       "      <td>Cowboy Bebop:The Movie</td>\n",
       "      <td>カウボーイビバップ 天国の扉</td>\n",
       "      <td>Movie</td>\n",
       "      <td>1.0</td>\n",
       "      <td>Sep 1, 2001</td>\n",
       "      <td>Unknown</td>\n",
       "      <td>...</td>\n",
       "      <td>30043.0</td>\n",
       "      <td>49201.0</td>\n",
       "      <td>49505.0</td>\n",
       "      <td>22632.0</td>\n",
       "      <td>5805.0</td>\n",
       "      <td>1877.0</td>\n",
       "      <td>577.0</td>\n",
       "      <td>221.0</td>\n",
       "      <td>109.0</td>\n",
       "      <td>379.0</td>\n",
       "    </tr>\n",
       "    <tr>\n",
       "      <th>3</th>\n",
       "      <td>6</td>\n",
       "      <td>Trigun</td>\n",
       "      <td>8.24</td>\n",
       "      <td>Action, Sci-Fi, Adventure, Comedy, Drama, Shounen</td>\n",
       "      <td>Trigun</td>\n",
       "      <td>トライガン</td>\n",
       "      <td>TV</td>\n",
       "      <td>26.0</td>\n",
       "      <td>Apr 1, 1998 to Sep 30, 1998</td>\n",
       "      <td>Spring 1998</td>\n",
       "      <td>...</td>\n",
       "      <td>50229.0</td>\n",
       "      <td>75651.0</td>\n",
       "      <td>86142.0</td>\n",
       "      <td>49432.0</td>\n",
       "      <td>15376.0</td>\n",
       "      <td>5838.0</td>\n",
       "      <td>1965.0</td>\n",
       "      <td>664.0</td>\n",
       "      <td>316.0</td>\n",
       "      <td>533.0</td>\n",
       "    </tr>\n",
       "    <tr>\n",
       "      <th>4</th>\n",
       "      <td>7</td>\n",
       "      <td>Witch Hunter Robin</td>\n",
       "      <td>7.27</td>\n",
       "      <td>Action, Mystery, Police, Supernatural, Drama, ...</td>\n",
       "      <td>Witch Hunter Robin</td>\n",
       "      <td>Witch Hunter ROBIN (ウイッチハンターロビン)</td>\n",
       "      <td>TV</td>\n",
       "      <td>26.0</td>\n",
       "      <td>Jul 2, 2002 to Dec 24, 2002</td>\n",
       "      <td>Summer 2002</td>\n",
       "      <td>...</td>\n",
       "      <td>2182.0</td>\n",
       "      <td>4806.0</td>\n",
       "      <td>10128.0</td>\n",
       "      <td>11618.0</td>\n",
       "      <td>5709.0</td>\n",
       "      <td>2920.0</td>\n",
       "      <td>1083.0</td>\n",
       "      <td>353.0</td>\n",
       "      <td>164.0</td>\n",
       "      <td>131.0</td>\n",
       "    </tr>\n",
       "    <tr>\n",
       "      <th>5</th>\n",
       "      <td>8</td>\n",
       "      <td>Bouken Ou Beet</td>\n",
       "      <td>6.98</td>\n",
       "      <td>Adventure, Fantasy, Shounen, Supernatural</td>\n",
       "      <td>Beet the Vandel Buster</td>\n",
       "      <td>冒険王ビィト</td>\n",
       "      <td>TV</td>\n",
       "      <td>52.0</td>\n",
       "      <td>Sep 30, 2004 to Sep 29, 2005</td>\n",
       "      <td>Fall 2004</td>\n",
       "      <td>...</td>\n",
       "      <td>312.0</td>\n",
       "      <td>529.0</td>\n",
       "      <td>1242.0</td>\n",
       "      <td>1713.0</td>\n",
       "      <td>1068.0</td>\n",
       "      <td>634.0</td>\n",
       "      <td>265.0</td>\n",
       "      <td>83.0</td>\n",
       "      <td>50.0</td>\n",
       "      <td>27.0</td>\n",
       "    </tr>\n",
       "    <tr>\n",
       "      <th>...</th>\n",
       "      <td>...</td>\n",
       "      <td>...</td>\n",
       "      <td>...</td>\n",
       "      <td>...</td>\n",
       "      <td>...</td>\n",
       "      <td>...</td>\n",
       "      <td>...</td>\n",
       "      <td>...</td>\n",
       "      <td>...</td>\n",
       "      <td>...</td>\n",
       "      <td>...</td>\n",
       "      <td>...</td>\n",
       "      <td>...</td>\n",
       "      <td>...</td>\n",
       "      <td>...</td>\n",
       "      <td>...</td>\n",
       "      <td>...</td>\n",
       "      <td>...</td>\n",
       "      <td>...</td>\n",
       "      <td>...</td>\n",
       "      <td>...</td>\n",
       "    </tr>\n",
       "    <tr>\n",
       "      <th>17479</th>\n",
       "      <td>46491</td>\n",
       "      <td>Santa Company: Manatsu no Merry Christmas</td>\n",
       "      <td>5.68</td>\n",
       "      <td>Fantasy</td>\n",
       "      <td>SANTA COMPANY ~Midsummer Merry Christmas~</td>\n",
       "      <td>サンタ・カンパニー ～真夏のメリークリスマス～</td>\n",
       "      <td>Movie</td>\n",
       "      <td>1.0</td>\n",
       "      <td>Jan 28, 2021</td>\n",
       "      <td>Unknown</td>\n",
       "      <td>...</td>\n",
       "      <td>25.0</td>\n",
       "      <td>17.0</td>\n",
       "      <td>51.0</td>\n",
       "      <td>139.0</td>\n",
       "      <td>212.0</td>\n",
       "      <td>195.0</td>\n",
       "      <td>101.0</td>\n",
       "      <td>48.0</td>\n",
       "      <td>29.0</td>\n",
       "      <td>10.0</td>\n",
       "    </tr>\n",
       "    <tr>\n",
       "      <th>17505</th>\n",
       "      <td>47398</td>\n",
       "      <td>Kimetsu Gakuen: Valentine-hen</td>\n",
       "      <td>6.59</td>\n",
       "      <td>Comedy</td>\n",
       "      <td>Unknown</td>\n",
       "      <td>キメツ学園 バレンタイン編</td>\n",
       "      <td>ONA</td>\n",
       "      <td>4.0</td>\n",
       "      <td>Feb 14, 2021</td>\n",
       "      <td>Unknown</td>\n",
       "      <td>...</td>\n",
       "      <td>367.0</td>\n",
       "      <td>257.0</td>\n",
       "      <td>616.0</td>\n",
       "      <td>1422.0</td>\n",
       "      <td>1433.0</td>\n",
       "      <td>631.0</td>\n",
       "      <td>165.0</td>\n",
       "      <td>73.0</td>\n",
       "      <td>44.0</td>\n",
       "      <td>43.0</td>\n",
       "    </tr>\n",
       "    <tr>\n",
       "      <th>17506</th>\n",
       "      <td>47402</td>\n",
       "      <td>Heikousen</td>\n",
       "      <td>7.52</td>\n",
       "      <td>Music, Romance</td>\n",
       "      <td>Unknown</td>\n",
       "      <td>平行線</td>\n",
       "      <td>Music</td>\n",
       "      <td>1.0</td>\n",
       "      <td>Feb 5, 2021</td>\n",
       "      <td>Unknown</td>\n",
       "      <td>...</td>\n",
       "      <td>67.0</td>\n",
       "      <td>73.0</td>\n",
       "      <td>112.0</td>\n",
       "      <td>112.0</td>\n",
       "      <td>38.0</td>\n",
       "      <td>10.0</td>\n",
       "      <td>3.0</td>\n",
       "      <td>1.0</td>\n",
       "      <td>2.0</td>\n",
       "      <td>1.0</td>\n",
       "    </tr>\n",
       "    <tr>\n",
       "      <th>17514</th>\n",
       "      <td>47616</td>\n",
       "      <td>Yakusoku no Neverland 2nd Season: Michishirube</td>\n",
       "      <td>4.81</td>\n",
       "      <td>Mystery, Psychological, Supernatural, Thriller...</td>\n",
       "      <td>The Promised Neverland Season 2 Episode 5.5</td>\n",
       "      <td>約束のネバーランド 特別編「道標」</td>\n",
       "      <td>Special</td>\n",
       "      <td>1.0</td>\n",
       "      <td>Feb 12, 2021</td>\n",
       "      <td>Unknown</td>\n",
       "      <td>...</td>\n",
       "      <td>188.0</td>\n",
       "      <td>141.0</td>\n",
       "      <td>317.0</td>\n",
       "      <td>565.0</td>\n",
       "      <td>998.0</td>\n",
       "      <td>1542.0</td>\n",
       "      <td>831.0</td>\n",
       "      <td>516.0</td>\n",
       "      <td>336.0</td>\n",
       "      <td>722.0</td>\n",
       "    </tr>\n",
       "    <tr>\n",
       "      <th>17553</th>\n",
       "      <td>48456</td>\n",
       "      <td>SK∞: Crazy Rock Jam</td>\n",
       "      <td>6.52</td>\n",
       "      <td>Comedy, Sports</td>\n",
       "      <td>Unknown</td>\n",
       "      <td>SK∞ エスケーエイト #9.5 PART『クレイジーロックJAM』</td>\n",
       "      <td>Special</td>\n",
       "      <td>1.0</td>\n",
       "      <td>Mar 14, 2021</td>\n",
       "      <td>Unknown</td>\n",
       "      <td>...</td>\n",
       "      <td>302.0</td>\n",
       "      <td>290.0</td>\n",
       "      <td>520.0</td>\n",
       "      <td>1226.0</td>\n",
       "      <td>1465.0</td>\n",
       "      <td>691.0</td>\n",
       "      <td>111.0</td>\n",
       "      <td>43.0</td>\n",
       "      <td>12.0</td>\n",
       "      <td>55.0</td>\n",
       "    </tr>\n",
       "  </tbody>\n",
       "</table>\n",
       "<p>10701 rows × 35 columns</p>\n",
       "</div>"
      ],
      "text/plain": [
       "0      MAL_ID                                            Name  Score  \\\n",
       "1           1                                    Cowboy Bebop   8.78   \n",
       "2           5                 Cowboy Bebop: Tengoku no Tobira   8.39   \n",
       "3           6                                          Trigun   8.24   \n",
       "4           7                              Witch Hunter Robin   7.27   \n",
       "5           8                                  Bouken Ou Beet   6.98   \n",
       "...       ...                                             ...    ...   \n",
       "17479   46491       Santa Company: Manatsu no Merry Christmas   5.68   \n",
       "17505   47398                   Kimetsu Gakuen: Valentine-hen   6.59   \n",
       "17506   47402                                       Heikousen   7.52   \n",
       "17514   47616  Yakusoku no Neverland 2nd Season: Michishirube   4.81   \n",
       "17553   48456                             SK∞: Crazy Rock Jam   6.52   \n",
       "\n",
       "0                                                 Genres  \\\n",
       "1        Action, Adventure, Comedy, Drama, Sci-Fi, Space   \n",
       "2                  Action, Drama, Mystery, Sci-Fi, Space   \n",
       "3      Action, Sci-Fi, Adventure, Comedy, Drama, Shounen   \n",
       "4      Action, Mystery, Police, Supernatural, Drama, ...   \n",
       "5              Adventure, Fantasy, Shounen, Supernatural   \n",
       "...                                                  ...   \n",
       "17479                                            Fantasy   \n",
       "17505                                             Comedy   \n",
       "17506                                     Music, Romance   \n",
       "17514  Mystery, Psychological, Supernatural, Thriller...   \n",
       "17553                                     Comedy, Sports   \n",
       "\n",
       "0                                     English name  \\\n",
       "1                                     Cowboy Bebop   \n",
       "2                           Cowboy Bebop:The Movie   \n",
       "3                                           Trigun   \n",
       "4                               Witch Hunter Robin   \n",
       "5                           Beet the Vandel Buster   \n",
       "...                                            ...   \n",
       "17479    SANTA COMPANY ~Midsummer Merry Christmas~   \n",
       "17505                                      Unknown   \n",
       "17506                                      Unknown   \n",
       "17514  The Promised Neverland Season 2 Episode 5.5   \n",
       "17553                                      Unknown   \n",
       "\n",
       "0                           Japanese name     Type  Episodes  \\\n",
       "1                               カウボーイビバップ       TV      26.0   \n",
       "2                          カウボーイビバップ 天国の扉    Movie       1.0   \n",
       "3                                   トライガン       TV      26.0   \n",
       "4        Witch Hunter ROBIN (ウイッチハンターロビン)       TV      26.0   \n",
       "5                                  冒険王ビィト       TV      52.0   \n",
       "...                                   ...      ...       ...   \n",
       "17479             サンタ・カンパニー ～真夏のメリークリスマス～    Movie       1.0   \n",
       "17505                       キメツ学園 バレンタイン編      ONA       4.0   \n",
       "17506                                 平行線    Music       1.0   \n",
       "17514                   約束のネバーランド 特別編「道標」  Special       1.0   \n",
       "17553  SK∞ エスケーエイト #9.5 PART『クレイジーロックJAM』  Special       1.0   \n",
       "\n",
       "0                             Aired    Premiered  ...  Score-10   Score-9  \\\n",
       "1       Apr 3, 1998 to Apr 24, 1999  Spring 1998  ...  229170.0  182126.0   \n",
       "2                       Sep 1, 2001      Unknown  ...   30043.0   49201.0   \n",
       "3       Apr 1, 1998 to Sep 30, 1998  Spring 1998  ...   50229.0   75651.0   \n",
       "4       Jul 2, 2002 to Dec 24, 2002  Summer 2002  ...    2182.0    4806.0   \n",
       "5      Sep 30, 2004 to Sep 29, 2005    Fall 2004  ...     312.0     529.0   \n",
       "...                             ...          ...  ...       ...       ...   \n",
       "17479                  Jan 28, 2021      Unknown  ...      25.0      17.0   \n",
       "17505                  Feb 14, 2021      Unknown  ...     367.0     257.0   \n",
       "17506                   Feb 5, 2021      Unknown  ...      67.0      73.0   \n",
       "17514                  Feb 12, 2021      Unknown  ...     188.0     141.0   \n",
       "17553                  Mar 14, 2021      Unknown  ...     302.0     290.0   \n",
       "\n",
       "0       Score-8  Score-7  Score-6 Score-5  Score-4  Score-3  Score-2  Score-1  \n",
       "1      131625.0  62330.0  20688.0  8904.0   3184.0   1357.0    741.0   1580.0  \n",
       "2       49505.0  22632.0   5805.0  1877.0    577.0    221.0    109.0    379.0  \n",
       "3       86142.0  49432.0  15376.0  5838.0   1965.0    664.0    316.0    533.0  \n",
       "4       10128.0  11618.0   5709.0  2920.0   1083.0    353.0    164.0    131.0  \n",
       "5        1242.0   1713.0   1068.0   634.0    265.0     83.0     50.0     27.0  \n",
       "...         ...      ...      ...     ...      ...      ...      ...      ...  \n",
       "17479      51.0    139.0    212.0   195.0    101.0     48.0     29.0     10.0  \n",
       "17505     616.0   1422.0   1433.0   631.0    165.0     73.0     44.0     43.0  \n",
       "17506     112.0    112.0     38.0    10.0      3.0      1.0      2.0      1.0  \n",
       "17514     317.0    565.0    998.0  1542.0    831.0    516.0    336.0    722.0  \n",
       "17553     520.0   1226.0   1465.0   691.0    111.0     43.0     12.0     55.0  \n",
       "\n",
       "[10701 rows x 35 columns]"
      ]
     },
     "execution_count": 56,
     "metadata": {},
     "output_type": "execute_result"
    }
   ],
   "source": [
    "anime = anime.dropna()\n",
    "anime"
   ]
  },
  {
   "cell_type": "code",
   "execution_count": 57,
   "id": "1043d784",
   "metadata": {},
   "outputs": [],
   "source": [
    "#pre-proccessing completed"
   ]
  },
  {
   "cell_type": "code",
   "execution_count": 58,
   "id": "5f9f6d7a",
   "metadata": {},
   "outputs": [],
   "source": [
    "#now let's begin with K-NN"
   ]
  },
  {
   "cell_type": "code",
   "execution_count": 59,
   "id": "ff64a5f6",
   "metadata": {},
   "outputs": [
    {
     "data": {
      "text/html": [
       "<div>\n",
       "<style scoped>\n",
       "    .dataframe tbody tr th:only-of-type {\n",
       "        vertical-align: middle;\n",
       "    }\n",
       "\n",
       "    .dataframe tbody tr th {\n",
       "        vertical-align: top;\n",
       "    }\n",
       "\n",
       "    .dataframe thead th {\n",
       "        text-align: right;\n",
       "    }\n",
       "</style>\n",
       "<table border=\"1\" class=\"dataframe\">\n",
       "  <thead>\n",
       "    <tr style=\"text-align: right;\">\n",
       "      <th></th>\n",
       "      <th>Watching</th>\n",
       "      <th>Completed</th>\n",
       "      <th>On-Hold</th>\n",
       "      <th>Dropped</th>\n",
       "      <th>Plan to Watch</th>\n",
       "      <th>Score-10</th>\n",
       "      <th>Score-9</th>\n",
       "      <th>Score-8</th>\n",
       "      <th>Score-7</th>\n",
       "      <th>Score-6</th>\n",
       "    </tr>\n",
       "  </thead>\n",
       "  <tbody>\n",
       "    <tr>\n",
       "      <th>1</th>\n",
       "      <td>105808</td>\n",
       "      <td>718161</td>\n",
       "      <td>71513</td>\n",
       "      <td>26678</td>\n",
       "      <td>329800</td>\n",
       "      <td>229170.0</td>\n",
       "      <td>182126.0</td>\n",
       "      <td>131625.0</td>\n",
       "      <td>62330.0</td>\n",
       "      <td>20688.0</td>\n",
       "    </tr>\n",
       "    <tr>\n",
       "      <th>2</th>\n",
       "      <td>4143</td>\n",
       "      <td>208333</td>\n",
       "      <td>1935</td>\n",
       "      <td>770</td>\n",
       "      <td>57964</td>\n",
       "      <td>30043.0</td>\n",
       "      <td>49201.0</td>\n",
       "      <td>49505.0</td>\n",
       "      <td>22632.0</td>\n",
       "      <td>5805.0</td>\n",
       "    </tr>\n",
       "    <tr>\n",
       "      <th>3</th>\n",
       "      <td>29113</td>\n",
       "      <td>343492</td>\n",
       "      <td>25465</td>\n",
       "      <td>13925</td>\n",
       "      <td>146918</td>\n",
       "      <td>50229.0</td>\n",
       "      <td>75651.0</td>\n",
       "      <td>86142.0</td>\n",
       "      <td>49432.0</td>\n",
       "      <td>15376.0</td>\n",
       "    </tr>\n",
       "    <tr>\n",
       "      <th>4</th>\n",
       "      <td>4300</td>\n",
       "      <td>46165</td>\n",
       "      <td>5121</td>\n",
       "      <td>5378</td>\n",
       "      <td>33719</td>\n",
       "      <td>2182.0</td>\n",
       "      <td>4806.0</td>\n",
       "      <td>10128.0</td>\n",
       "      <td>11618.0</td>\n",
       "      <td>5709.0</td>\n",
       "    </tr>\n",
       "    <tr>\n",
       "      <th>5</th>\n",
       "      <td>642</td>\n",
       "      <td>7314</td>\n",
       "      <td>766</td>\n",
       "      <td>1108</td>\n",
       "      <td>3394</td>\n",
       "      <td>312.0</td>\n",
       "      <td>529.0</td>\n",
       "      <td>1242.0</td>\n",
       "      <td>1713.0</td>\n",
       "      <td>1068.0</td>\n",
       "    </tr>\n",
       "    <tr>\n",
       "      <th>...</th>\n",
       "      <td>...</td>\n",
       "      <td>...</td>\n",
       "      <td>...</td>\n",
       "      <td>...</td>\n",
       "      <td>...</td>\n",
       "      <td>...</td>\n",
       "      <td>...</td>\n",
       "      <td>...</td>\n",
       "      <td>...</td>\n",
       "      <td>...</td>\n",
       "    </tr>\n",
       "    <tr>\n",
       "      <th>17479</th>\n",
       "      <td>46</td>\n",
       "      <td>985</td>\n",
       "      <td>19</td>\n",
       "      <td>21</td>\n",
       "      <td>606</td>\n",
       "      <td>25.0</td>\n",
       "      <td>17.0</td>\n",
       "      <td>51.0</td>\n",
       "      <td>139.0</td>\n",
       "      <td>212.0</td>\n",
       "    </tr>\n",
       "    <tr>\n",
       "      <th>17505</th>\n",
       "      <td>617</td>\n",
       "      <td>6978</td>\n",
       "      <td>118</td>\n",
       "      <td>62</td>\n",
       "      <td>10386</td>\n",
       "      <td>367.0</td>\n",
       "      <td>257.0</td>\n",
       "      <td>616.0</td>\n",
       "      <td>1422.0</td>\n",
       "      <td>1433.0</td>\n",
       "    </tr>\n",
       "    <tr>\n",
       "      <th>17506</th>\n",
       "      <td>17</td>\n",
       "      <td>549</td>\n",
       "      <td>8</td>\n",
       "      <td>1</td>\n",
       "      <td>257</td>\n",
       "      <td>67.0</td>\n",
       "      <td>73.0</td>\n",
       "      <td>112.0</td>\n",
       "      <td>112.0</td>\n",
       "      <td>38.0</td>\n",
       "    </tr>\n",
       "    <tr>\n",
       "      <th>17514</th>\n",
       "      <td>1183</td>\n",
       "      <td>8196</td>\n",
       "      <td>119</td>\n",
       "      <td>202</td>\n",
       "      <td>3370</td>\n",
       "      <td>188.0</td>\n",
       "      <td>141.0</td>\n",
       "      <td>317.0</td>\n",
       "      <td>565.0</td>\n",
       "      <td>998.0</td>\n",
       "    </tr>\n",
       "    <tr>\n",
       "      <th>17553</th>\n",
       "      <td>739</td>\n",
       "      <td>7207</td>\n",
       "      <td>57</td>\n",
       "      <td>45</td>\n",
       "      <td>2674</td>\n",
       "      <td>302.0</td>\n",
       "      <td>290.0</td>\n",
       "      <td>520.0</td>\n",
       "      <td>1226.0</td>\n",
       "      <td>1465.0</td>\n",
       "    </tr>\n",
       "  </tbody>\n",
       "</table>\n",
       "<p>10701 rows × 10 columns</p>\n",
       "</div>"
      ],
      "text/plain": [
       "0      Watching  Completed  On-Hold  Dropped  Plan to Watch  Score-10  \\\n",
       "1        105808     718161    71513    26678         329800  229170.0   \n",
       "2          4143     208333     1935      770          57964   30043.0   \n",
       "3         29113     343492    25465    13925         146918   50229.0   \n",
       "4          4300      46165     5121     5378          33719    2182.0   \n",
       "5           642       7314      766     1108           3394     312.0   \n",
       "...         ...        ...      ...      ...            ...       ...   \n",
       "17479        46        985       19       21            606      25.0   \n",
       "17505       617       6978      118       62          10386     367.0   \n",
       "17506        17        549        8        1            257      67.0   \n",
       "17514      1183       8196      119      202           3370     188.0   \n",
       "17553       739       7207       57       45           2674     302.0   \n",
       "\n",
       "0       Score-9   Score-8  Score-7  Score-6  \n",
       "1      182126.0  131625.0  62330.0  20688.0  \n",
       "2       49201.0   49505.0  22632.0   5805.0  \n",
       "3       75651.0   86142.0  49432.0  15376.0  \n",
       "4        4806.0   10128.0  11618.0   5709.0  \n",
       "5         529.0    1242.0   1713.0   1068.0  \n",
       "...         ...       ...      ...      ...  \n",
       "17479      17.0      51.0    139.0    212.0  \n",
       "17505     257.0     616.0   1422.0   1433.0  \n",
       "17506      73.0     112.0    112.0     38.0  \n",
       "17514     141.0     317.0    565.0    998.0  \n",
       "17553     290.0     520.0   1226.0   1465.0  \n",
       "\n",
       "[10701 rows x 10 columns]"
      ]
     },
     "execution_count": 59,
     "metadata": {},
     "output_type": "execute_result"
    }
   ],
   "source": [
    "anime.iloc[:,20:30]"
   ]
  },
  {
   "cell_type": "code",
   "execution_count": 60,
   "id": "1bc318c1",
   "metadata": {},
   "outputs": [],
   "source": [
    "#drop all the text based columns"
   ]
  },
  {
   "cell_type": "code",
   "execution_count": 61,
   "id": "6e144722",
   "metadata": {},
   "outputs": [
    {
     "data": {
      "text/plain": [
       "(10701, 20)"
      ]
     },
     "execution_count": 61,
     "metadata": {},
     "output_type": "execute_result"
    }
   ],
   "source": [
    "X = anime.drop(['MAL_ID','Name','Genres', 'English name', 'Japanese name', 'Type','Aired','Premiered','Producers','Licensors','Studios','Source','Duration','Rating' ], axis = 1)\n",
    "X = X.drop('Popularity', axis = 1)\n",
    "# X = X.values\n",
    "X.shape"
   ]
  },
  {
   "cell_type": "code",
   "execution_count": 62,
   "id": "7275f831",
   "metadata": {},
   "outputs": [
    {
     "data": {
      "text/plain": [
       "array([   39,   518,   201, ..., 10869,  4398,  4830], dtype=int64)"
      ]
     },
     "execution_count": 62,
     "metadata": {},
     "output_type": "execute_result"
    }
   ],
   "source": [
    "y = anime['Popularity']\n",
    "y = y.values\n",
    "y"
   ]
  },
  {
   "cell_type": "code",
   "execution_count": 63,
   "id": "ec57d6b6",
   "metadata": {},
   "outputs": [
    {
     "data": {
      "text/html": [
       "<div>\n",
       "<style scoped>\n",
       "    .dataframe tbody tr th:only-of-type {\n",
       "        vertical-align: middle;\n",
       "    }\n",
       "\n",
       "    .dataframe tbody tr th {\n",
       "        vertical-align: top;\n",
       "    }\n",
       "\n",
       "    .dataframe thead th {\n",
       "        text-align: right;\n",
       "    }\n",
       "</style>\n",
       "<table border=\"1\" class=\"dataframe\">\n",
       "  <thead>\n",
       "    <tr style=\"text-align: right;\">\n",
       "      <th></th>\n",
       "      <th>MAL_ID</th>\n",
       "      <th>Name</th>\n",
       "      <th>Score</th>\n",
       "      <th>Genres</th>\n",
       "      <th>English name</th>\n",
       "      <th>Japanese name</th>\n",
       "      <th>Type</th>\n",
       "      <th>Episodes</th>\n",
       "      <th>Aired</th>\n",
       "      <th>Premiered</th>\n",
       "      <th>...</th>\n",
       "      <th>Score-10</th>\n",
       "      <th>Score-9</th>\n",
       "      <th>Score-8</th>\n",
       "      <th>Score-7</th>\n",
       "      <th>Score-6</th>\n",
       "      <th>Score-5</th>\n",
       "      <th>Score-4</th>\n",
       "      <th>Score-3</th>\n",
       "      <th>Score-2</th>\n",
       "      <th>Score-1</th>\n",
       "    </tr>\n",
       "  </thead>\n",
       "  <tbody>\n",
       "    <tr>\n",
       "      <th>11</th>\n",
       "      <td>20</td>\n",
       "      <td>Naruto</td>\n",
       "      <td>7.91</td>\n",
       "      <td>Action, Adventure, Comedy, Super Power, Martia...</td>\n",
       "      <td>Naruto</td>\n",
       "      <td>ナルト</td>\n",
       "      <td>TV</td>\n",
       "      <td>220.0</td>\n",
       "      <td>Oct 3, 2002 to Feb 8, 2007</td>\n",
       "      <td>Fall 2002</td>\n",
       "      <td>...</td>\n",
       "      <td>216866.0</td>\n",
       "      <td>234481.0</td>\n",
       "      <td>345563.0</td>\n",
       "      <td>286175.0</td>\n",
       "      <td>108155.0</td>\n",
       "      <td>46886.0</td>\n",
       "      <td>15477.0</td>\n",
       "      <td>6098.0</td>\n",
       "      <td>3582.0</td>\n",
       "      <td>5310.0</td>\n",
       "    </tr>\n",
       "  </tbody>\n",
       "</table>\n",
       "<p>1 rows × 35 columns</p>\n",
       "</div>"
      ],
      "text/plain": [
       "0   MAL_ID    Name  Score                                             Genres  \\\n",
       "11      20  Naruto   7.91  Action, Adventure, Comedy, Super Power, Martia...   \n",
       "\n",
       "0  English name Japanese name Type  Episodes                       Aired  \\\n",
       "11       Naruto           ナルト   TV     220.0  Oct 3, 2002 to Feb 8, 2007   \n",
       "\n",
       "0   Premiered  ...  Score-10   Score-9   Score-8   Score-7   Score-6  Score-5  \\\n",
       "11  Fall 2002  ...  216866.0  234481.0  345563.0  286175.0  108155.0  46886.0   \n",
       "\n",
       "0   Score-4  Score-3  Score-2  Score-1  \n",
       "11  15477.0   6098.0   3582.0   5310.0  \n",
       "\n",
       "[1 rows x 35 columns]"
      ]
     },
     "execution_count": 63,
     "metadata": {},
     "output_type": "execute_result"
    }
   ],
   "source": [
    "anime.loc[anime.loc[:,'Name'] == 'Naruto']"
   ]
  },
  {
   "cell_type": "code",
   "execution_count": 64,
   "id": "0067090c",
   "metadata": {},
   "outputs": [
    {
     "data": {
      "text/plain": [
       "array([[7.910000e+00, 2.200000e+02, 6.600000e+02, 1.830540e+06,\n",
       "        6.558600e+04, 1.371670e+05, 1.462223e+06, 6.173400e+04,\n",
       "        9.980600e+04, 6.961000e+04, 2.168660e+05, 2.344810e+05,\n",
       "        3.455630e+05, 2.861750e+05, 1.081550e+05, 4.688600e+04,\n",
       "        1.547700e+04, 6.098000e+03, 3.582000e+03, 5.310000e+03]])"
      ]
     },
     "execution_count": 64,
     "metadata": {},
     "output_type": "execute_result"
    }
   ],
   "source": [
    "new_data_point = anime.drop(['MAL_ID','Popularity','Genres', 'English name', 'Japanese name', 'Type','Aired','Premiered','Producers','Licensors','Studios','Source','Duration','Rating' ], axis = 1)\n",
    "new_data_point = new_data_point.loc[new_data_point.loc[:,'Name'] == 'Naruto']\n",
    "new_data_point = new_data_point.drop('Name', axis = 1)\n",
    "new_data_point = new_data_point.values\n",
    "new_data_point"
   ]
  },
  {
   "cell_type": "code",
   "execution_count": 65,
   "id": "a99ae0ca",
   "metadata": {},
   "outputs": [
    {
     "data": {
      "text/plain": [
       "(1, 20)"
      ]
     },
     "execution_count": 65,
     "metadata": {},
     "output_type": "execute_result"
    }
   ],
   "source": [
    "new_data_point.shape"
   ]
  },
  {
   "cell_type": "code",
   "execution_count": 66,
   "id": "6b3198a6",
   "metadata": {},
   "outputs": [],
   "source": [
    "#calculate the distances between the new data point and all the existing data point"
   ]
  },
  {
   "cell_type": "code",
   "execution_count": 67,
   "id": "9c69e93a",
   "metadata": {},
   "outputs": [
    {
     "data": {
      "text/plain": [
       "10701"
      ]
     },
     "execution_count": 67,
     "metadata": {},
     "output_type": "execute_result"
    }
   ],
   "source": [
    "distances = np.linalg.norm(X - new_data_point , axis = 1)\n",
    "len(distances)"
   ]
  },
  {
   "cell_type": "code",
   "execution_count": 68,
   "id": "3cea98f5",
   "metadata": {},
   "outputs": [],
   "source": [
    "#find 3 closest neighbors"
   ]
  },
  {
   "cell_type": "code",
   "execution_count": 69,
   "id": "d8cc82f5",
   "metadata": {},
   "outputs": [
    {
     "data": {
      "text/plain": [
       "array([  10, 6534, 6242], dtype=int64)"
      ]
     },
     "execution_count": 69,
     "metadata": {},
     "output_type": "execute_result"
    }
   ],
   "source": [
    "k = 3\n",
    "nearest_neighbors_ids = distances.argsort()[:k]\n",
    "nearest_neighbors_ids"
   ]
  },
  {
   "cell_type": "code",
   "execution_count": 70,
   "id": "be303c6e",
   "metadata": {},
   "outputs": [
    {
     "data": {
      "text/plain": [
       "array([ 8,  7, 10], dtype=int64)"
      ]
     },
     "execution_count": 70,
     "metadata": {},
     "output_type": "execute_result"
    }
   ],
   "source": [
    "nearestNeighborsPopularity = y[nearest_neighbors_ids]\n",
    "nearestNeighborsPopularity"
   ]
  },
  {
   "cell_type": "code",
   "execution_count": 71,
   "id": "d9d20261",
   "metadata": {},
   "outputs": [
    {
     "data": {
      "text/html": [
       "<div>\n",
       "<style scoped>\n",
       "    .dataframe tbody tr th:only-of-type {\n",
       "        vertical-align: middle;\n",
       "    }\n",
       "\n",
       "    .dataframe tbody tr th {\n",
       "        vertical-align: top;\n",
       "    }\n",
       "\n",
       "    .dataframe thead th {\n",
       "        text-align: right;\n",
       "    }\n",
       "</style>\n",
       "<table border=\"1\" class=\"dataframe\">\n",
       "  <thead>\n",
       "    <tr style=\"text-align: right;\">\n",
       "      <th></th>\n",
       "      <th>MAL_ID</th>\n",
       "      <th>Name</th>\n",
       "      <th>Score</th>\n",
       "      <th>Genres</th>\n",
       "      <th>English name</th>\n",
       "      <th>Japanese name</th>\n",
       "      <th>Type</th>\n",
       "      <th>Episodes</th>\n",
       "      <th>Aired</th>\n",
       "      <th>Premiered</th>\n",
       "      <th>...</th>\n",
       "      <th>Watching</th>\n",
       "      <th>Completed</th>\n",
       "      <th>On-Hold</th>\n",
       "      <th>Dropped</th>\n",
       "      <th>Plan to Watch</th>\n",
       "      <th>Score-10</th>\n",
       "      <th>Score-9</th>\n",
       "      <th>Score-8</th>\n",
       "      <th>Score-7</th>\n",
       "      <th>Score-6</th>\n",
       "    </tr>\n",
       "  </thead>\n",
       "  <tbody>\n",
       "    <tr>\n",
       "      <th>9</th>\n",
       "      <td>18</td>\n",
       "      <td>Initial D Fourth Stage</td>\n",
       "      <td>8.15</td>\n",
       "      <td>Action, Cars, Sports, Drama, Seinen</td>\n",
       "      <td>Unknown</td>\n",
       "      <td>頭文字〈イニシャル〉D FOURTH STAGE</td>\n",
       "      <td>TV</td>\n",
       "      <td>24.0</td>\n",
       "      <td>Apr 17, 2004 to Feb 18, 2006</td>\n",
       "      <td>Spring 2004</td>\n",
       "      <td>...</td>\n",
       "      <td>6082</td>\n",
       "      <td>90967</td>\n",
       "      <td>3053</td>\n",
       "      <td>1356</td>\n",
       "      <td>16471</td>\n",
       "      <td>10948.0</td>\n",
       "      <td>15820.0</td>\n",
       "      <td>22379.0</td>\n",
       "      <td>12912.0</td>\n",
       "      <td>3874.0</td>\n",
       "    </tr>\n",
       "    <tr>\n",
       "      <th>8</th>\n",
       "      <td>17</td>\n",
       "      <td>Hungry Heart: Wild Striker</td>\n",
       "      <td>7.59</td>\n",
       "      <td>Slice of Life, Comedy, Sports, Shounen</td>\n",
       "      <td>Unknown</td>\n",
       "      <td>ハングリーハート Wild Striker</td>\n",
       "      <td>TV</td>\n",
       "      <td>52.0</td>\n",
       "      <td>Sep 11, 2002 to Sep 10, 2003</td>\n",
       "      <td>Fall 2002</td>\n",
       "      <td>...</td>\n",
       "      <td>817</td>\n",
       "      <td>13778</td>\n",
       "      <td>828</td>\n",
       "      <td>1168</td>\n",
       "      <td>3879</td>\n",
       "      <td>1123.0</td>\n",
       "      <td>1777.0</td>\n",
       "      <td>3102.0</td>\n",
       "      <td>3075.0</td>\n",
       "      <td>1286.0</td>\n",
       "    </tr>\n",
       "    <tr>\n",
       "      <th>11</th>\n",
       "      <td>20</td>\n",
       "      <td>Naruto</td>\n",
       "      <td>7.91</td>\n",
       "      <td>Action, Adventure, Comedy, Super Power, Martia...</td>\n",
       "      <td>Naruto</td>\n",
       "      <td>ナルト</td>\n",
       "      <td>TV</td>\n",
       "      <td>220.0</td>\n",
       "      <td>Oct 3, 2002 to Feb 8, 2007</td>\n",
       "      <td>Fall 2002</td>\n",
       "      <td>...</td>\n",
       "      <td>137167</td>\n",
       "      <td>1462223</td>\n",
       "      <td>61734</td>\n",
       "      <td>99806</td>\n",
       "      <td>69610</td>\n",
       "      <td>216866.0</td>\n",
       "      <td>234481.0</td>\n",
       "      <td>345563.0</td>\n",
       "      <td>286175.0</td>\n",
       "      <td>108155.0</td>\n",
       "    </tr>\n",
       "  </tbody>\n",
       "</table>\n",
       "<p>3 rows × 30 columns</p>\n",
       "</div>"
      ],
      "text/plain": [
       "0   MAL_ID                        Name  Score  \\\n",
       "9       18      Initial D Fourth Stage   8.15   \n",
       "8       17  Hungry Heart: Wild Striker   7.59   \n",
       "11      20                      Naruto   7.91   \n",
       "\n",
       "0                                              Genres English name  \\\n",
       "9                 Action, Cars, Sports, Drama, Seinen      Unknown   \n",
       "8              Slice of Life, Comedy, Sports, Shounen      Unknown   \n",
       "11  Action, Adventure, Comedy, Super Power, Martia...       Naruto   \n",
       "\n",
       "0              Japanese name Type  Episodes                         Aired  \\\n",
       "9   頭文字〈イニシャル〉D FOURTH STAGE   TV      24.0  Apr 17, 2004 to Feb 18, 2006   \n",
       "8      ハングリーハート Wild Striker   TV      52.0  Sep 11, 2002 to Sep 10, 2003   \n",
       "11                       ナルト   TV     220.0    Oct 3, 2002 to Feb 8, 2007   \n",
       "\n",
       "0     Premiered  ... Watching Completed On-Hold Dropped Plan to Watch  \\\n",
       "9   Spring 2004  ...     6082     90967    3053    1356         16471   \n",
       "8     Fall 2002  ...      817     13778     828    1168          3879   \n",
       "11    Fall 2002  ...   137167   1462223   61734   99806         69610   \n",
       "\n",
       "0   Score-10   Score-9   Score-8   Score-7   Score-6  \n",
       "9    10948.0   15820.0   22379.0   12912.0    3874.0  \n",
       "8     1123.0    1777.0    3102.0    3075.0    1286.0  \n",
       "11  216866.0  234481.0  345563.0  286175.0  108155.0  \n",
       "\n",
       "[3 rows x 30 columns]"
      ]
     },
     "execution_count": 71,
     "metadata": {},
     "output_type": "execute_result"
    }
   ],
   "source": [
    "anime.iloc[nearestNeighborsPopularity,:30]"
   ]
  },
  {
   "cell_type": "code",
   "execution_count": 72,
   "id": "9ef514ff",
   "metadata": {},
   "outputs": [
    {
     "data": {
      "text/html": [
       "<div>\n",
       "<style scoped>\n",
       "    .dataframe tbody tr th:only-of-type {\n",
       "        vertical-align: middle;\n",
       "    }\n",
       "\n",
       "    .dataframe tbody tr th {\n",
       "        vertical-align: top;\n",
       "    }\n",
       "\n",
       "    .dataframe thead th {\n",
       "        text-align: right;\n",
       "    }\n",
       "</style>\n",
       "<table border=\"1\" class=\"dataframe\">\n",
       "  <thead>\n",
       "    <tr style=\"text-align: right;\">\n",
       "      <th></th>\n",
       "      <th>Premiered</th>\n",
       "      <th>Producers</th>\n",
       "      <th>Licensors</th>\n",
       "      <th>Studios</th>\n",
       "      <th>Source</th>\n",
       "      <th>Duration</th>\n",
       "      <th>Rating</th>\n",
       "      <th>Ranked</th>\n",
       "      <th>Popularity</th>\n",
       "      <th>Members</th>\n",
       "      <th>Favorites</th>\n",
       "      <th>Watching</th>\n",
       "      <th>Completed</th>\n",
       "      <th>On-Hold</th>\n",
       "      <th>Dropped</th>\n",
       "      <th>Plan to Watch</th>\n",
       "      <th>Score-10</th>\n",
       "    </tr>\n",
       "  </thead>\n",
       "  <tbody>\n",
       "    <tr>\n",
       "      <th>11</th>\n",
       "      <td>Fall 2002</td>\n",
       "      <td>TV Tokyo, Aniplex, Shueisha</td>\n",
       "      <td>VIZ Media</td>\n",
       "      <td>Studio Pierrot</td>\n",
       "      <td>Manga</td>\n",
       "      <td>23 min. per ep.</td>\n",
       "      <td>PG-13 - Teens 13 or older</td>\n",
       "      <td>660.0</td>\n",
       "      <td>8</td>\n",
       "      <td>1830540</td>\n",
       "      <td>65586</td>\n",
       "      <td>137167</td>\n",
       "      <td>1462223</td>\n",
       "      <td>61734</td>\n",
       "      <td>99806</td>\n",
       "      <td>69610</td>\n",
       "      <td>216866.0</td>\n",
       "    </tr>\n",
       "  </tbody>\n",
       "</table>\n",
       "</div>"
      ],
      "text/plain": [
       "0   Premiered                    Producers  Licensors         Studios Source  \\\n",
       "11  Fall 2002  TV Tokyo, Aniplex, Shueisha  VIZ Media  Studio Pierrot  Manga   \n",
       "\n",
       "0          Duration                     Rating  Ranked  Popularity  Members  \\\n",
       "11  23 min. per ep.  PG-13 - Teens 13 or older   660.0           8  1830540   \n",
       "\n",
       "0   Favorites  Watching  Completed  On-Hold  Dropped  Plan to Watch  Score-10  \n",
       "11      65586    137167    1462223    61734    99806          69610  216866.0  "
      ]
     },
     "execution_count": 72,
     "metadata": {},
     "output_type": "execute_result"
    }
   ],
   "source": [
    "anime.loc[anime.loc[:,\"Name\"] == \"Naruto\",\"Premiered\" : \"Score-10\"]"
   ]
  },
  {
   "cell_type": "code",
   "execution_count": 73,
   "id": "14fb2644",
   "metadata": {},
   "outputs": [
    {
     "data": {
      "text/html": [
       "<div>\n",
       "<style scoped>\n",
       "    .dataframe tbody tr th:only-of-type {\n",
       "        vertical-align: middle;\n",
       "    }\n",
       "\n",
       "    .dataframe tbody tr th {\n",
       "        vertical-align: top;\n",
       "    }\n",
       "\n",
       "    .dataframe thead th {\n",
       "        text-align: right;\n",
       "    }\n",
       "</style>\n",
       "<table border=\"1\" class=\"dataframe\">\n",
       "  <thead>\n",
       "    <tr style=\"text-align: right;\">\n",
       "      <th></th>\n",
       "      <th>Premiered</th>\n",
       "      <th>Producers</th>\n",
       "      <th>Licensors</th>\n",
       "      <th>Studios</th>\n",
       "      <th>Source</th>\n",
       "      <th>Duration</th>\n",
       "      <th>Rating</th>\n",
       "      <th>Ranked</th>\n",
       "      <th>Popularity</th>\n",
       "      <th>Members</th>\n",
       "      <th>Favorites</th>\n",
       "      <th>Watching</th>\n",
       "      <th>Completed</th>\n",
       "      <th>On-Hold</th>\n",
       "      <th>Dropped</th>\n",
       "      <th>Plan to Watch</th>\n",
       "      <th>Score-10</th>\n",
       "    </tr>\n",
       "  </thead>\n",
       "  <tbody>\n",
       "    <tr>\n",
       "      <th>735</th>\n",
       "      <td>Spring 1989</td>\n",
       "      <td>Fuji TV</td>\n",
       "      <td>Funimation</td>\n",
       "      <td>Toei Animation</td>\n",
       "      <td>Manga</td>\n",
       "      <td>24 min. per ep.</td>\n",
       "      <td>PG-13 - Teens 13 or older</td>\n",
       "      <td>348.0</td>\n",
       "      <td>88</td>\n",
       "      <td>888982</td>\n",
       "      <td>32032</td>\n",
       "      <td>32608</td>\n",
       "      <td>772421</td>\n",
       "      <td>19285</td>\n",
       "      <td>23682</td>\n",
       "      <td>40986</td>\n",
       "      <td>144729.0</td>\n",
       "    </tr>\n",
       "  </tbody>\n",
       "</table>\n",
       "</div>"
      ],
      "text/plain": [
       "0      Premiered Producers   Licensors         Studios Source  \\\n",
       "735  Spring 1989   Fuji TV  Funimation  Toei Animation  Manga   \n",
       "\n",
       "0           Duration                     Rating  Ranked  Popularity  Members  \\\n",
       "735  24 min. per ep.  PG-13 - Teens 13 or older   348.0          88   888982   \n",
       "\n",
       "0    Favorites  Watching  Completed  On-Hold  Dropped  Plan to Watch  Score-10  \n",
       "735      32032     32608     772421    19285    23682          40986  144729.0  "
      ]
     },
     "execution_count": 73,
     "metadata": {},
     "output_type": "execute_result"
    }
   ],
   "source": [
    "anime.loc[anime.loc[:,\"Name\"] == \"Dragon Ball Z\",\"Premiered\" : \"Score-10\"]"
   ]
  },
  {
   "cell_type": "code",
   "execution_count": 74,
   "id": "ae523f26",
   "metadata": {},
   "outputs": [
    {
     "data": {
      "text/plain": [
       "8.333333333333334"
      ]
     },
     "execution_count": 74,
     "metadata": {},
     "output_type": "execute_result"
    }
   ],
   "source": [
    "prediction = nearestNeighborsPopularity.mean()\n",
    "prediction"
   ]
  },
  {
   "cell_type": "code",
   "execution_count": 75,
   "id": "dab555fc",
   "metadata": {},
   "outputs": [],
   "source": [
    "#split into training and testing data"
   ]
  },
  {
   "cell_type": "code",
   "execution_count": 76,
   "id": "c9a25b39",
   "metadata": {},
   "outputs": [],
   "source": [
    "from sklearn.model_selection import train_test_split"
   ]
  },
  {
   "cell_type": "code",
   "execution_count": 77,
   "id": "276cf4e5",
   "metadata": {},
   "outputs": [],
   "source": [
    "X_train, X_test, y_train, y_test = train_test_split(X, y, test_size=0.2)"
   ]
  },
  {
   "cell_type": "code",
   "execution_count": 78,
   "id": "315785fe",
   "metadata": {},
   "outputs": [],
   "source": [
    "from sklearn.neighbors import KNeighborsRegressor"
   ]
  },
  {
   "cell_type": "code",
   "execution_count": 79,
   "id": "6cc9200f",
   "metadata": {},
   "outputs": [
    {
     "data": {
      "text/plain": [
       "KNeighborsRegressor(n_neighbors=3)"
      ]
     },
     "execution_count": 79,
     "metadata": {},
     "output_type": "execute_result"
    }
   ],
   "source": [
    "knn_model = KNeighborsRegressor(n_neighbors=3)\n",
    "knn_model"
   ]
  },
  {
   "cell_type": "code",
   "execution_count": 80,
   "id": "adf918b2",
   "metadata": {},
   "outputs": [
    {
     "data": {
      "text/plain": [
       "array([10420,  2923,  2242, ...,   474, 11919, 10678], dtype=int64)"
      ]
     },
     "execution_count": 80,
     "metadata": {},
     "output_type": "execute_result"
    }
   ],
   "source": [
    "y_train"
   ]
  },
  {
   "cell_type": "code",
   "execution_count": 81,
   "id": "8de7137e",
   "metadata": {},
   "outputs": [
    {
     "data": {
      "text/plain": [
       "KNeighborsRegressor(n_neighbors=3)"
      ]
     },
     "execution_count": 81,
     "metadata": {},
     "output_type": "execute_result"
    }
   ],
   "source": [
    "knn_model.fit(X_train, y_train)"
   ]
  },
  {
   "cell_type": "code",
   "execution_count": 82,
   "id": "693778fb",
   "metadata": {},
   "outputs": [],
   "source": [
    "#check error between predicted and actual values "
   ]
  },
  {
   "cell_type": "code",
   "execution_count": 83,
   "id": "60e070e1",
   "metadata": {},
   "outputs": [],
   "source": [
    "from sklearn.metrics import mean_squared_error\n",
    "from math import sqrt"
   ]
  },
  {
   "cell_type": "code",
   "execution_count": 84,
   "id": "013616c3",
   "metadata": {},
   "outputs": [
    {
     "data": {
      "text/plain": [
       "70.25904283213993"
      ]
     },
     "execution_count": 84,
     "metadata": {},
     "output_type": "execute_result"
    }
   ],
   "source": [
    "#training data\n",
    "train_preds = knn_model.predict(X_train)\n",
    "mse = mean_squared_error(y_train, train_preds)\n",
    "rmse = sqrt(mse)\n",
    "rmse"
   ]
  },
  {
   "cell_type": "code",
   "execution_count": 85,
   "id": "dbde3db3",
   "metadata": {},
   "outputs": [
    {
     "data": {
      "text/plain": [
       "108.89172514605093"
      ]
     },
     "execution_count": 85,
     "metadata": {},
     "output_type": "execute_result"
    }
   ],
   "source": [
    "#testing data\n",
    "test_preds = knn_model.predict(X_test)\n",
    "mse = mean_squared_error(y_test, test_preds)\n",
    "rmse = sqrt(mse)\n",
    "rmse"
   ]
  },
  {
   "cell_type": "code",
   "execution_count": 86,
   "id": "967e5ec4",
   "metadata": {},
   "outputs": [],
   "source": [
    "#visualize how the predictions have been made"
   ]
  },
  {
   "cell_type": "code",
   "execution_count": 87,
   "id": "ccb8b24b",
   "metadata": {},
   "outputs": [],
   "source": [
    "import seaborn as sns\n",
    "import matplotlib.pyplot as plt"
   ]
  },
  {
   "cell_type": "code",
   "execution_count": 88,
   "id": "6b333d74",
   "metadata": {},
   "outputs": [
    {
     "data": {
      "image/png": "[encoded data removed]",
      "text/plain": [
       "<Figure size 432x288 with 2 Axes>"
      ]
     },
     "metadata": {
      "needs_background": "light"
     },
     "output_type": "display_data"
    }
   ],
   "source": [
    "cmap = sns.cubehelix_palette(as_cmap = True)\n",
    "f, ax = plt.subplots()\n",
    "points = ax.scatter(\n",
    "    X_test.loc[:, \"Score\"], X_test.loc[:, \"Ranked\"], c=test_preds, s=50, cmap=cmap\n",
    ")\n",
    "f.colorbar(points)\n",
    "plt.show()"
   ]
  },
  {
   "cell_type": "code",
   "execution_count": 89,
   "id": "87e45ceb",
   "metadata": {},
   "outputs": [],
   "source": [
    "# cmap = sns.cubehelix_palette(as_cmap = True)\n",
    "# f, ax = plt.subplots()\n",
    "# points = ax.scatter(\n",
    "#     X_test.loc[:, \"Episodes\"], X_test.loc[:, \"Members\"], c=test_preds, s=50, cmap=cmap\n",
    "# )\n",
    "# f.colorbar(points)\n",
    "# plt.show()"
   ]
  },
  {
   "cell_type": "code",
   "execution_count": 90,
   "id": "39d8937c",
   "metadata": {},
   "outputs": [
    {
     "data": {
      "text/html": [
       "<div>\n",
       "<style scoped>\n",
       "    .dataframe tbody tr th:only-of-type {\n",
       "        vertical-align: middle;\n",
       "    }\n",
       "\n",
       "    .dataframe tbody tr th {\n",
       "        vertical-align: top;\n",
       "    }\n",
       "\n",
       "    .dataframe thead th {\n",
       "        text-align: right;\n",
       "    }\n",
       "</style>\n",
       "<table border=\"1\" class=\"dataframe\">\n",
       "  <thead>\n",
       "    <tr style=\"text-align: right;\">\n",
       "      <th></th>\n",
       "      <th>Score</th>\n",
       "      <th>Episodes</th>\n",
       "      <th>Ranked</th>\n",
       "      <th>Members</th>\n",
       "      <th>Favorites</th>\n",
       "      <th>Watching</th>\n",
       "      <th>Completed</th>\n",
       "      <th>On-Hold</th>\n",
       "      <th>Dropped</th>\n",
       "      <th>Plan to Watch</th>\n",
       "      <th>Score-10</th>\n",
       "      <th>Score-9</th>\n",
       "      <th>Score-8</th>\n",
       "      <th>Score-7</th>\n",
       "      <th>Score-6</th>\n",
       "      <th>Score-5</th>\n",
       "      <th>Score-4</th>\n",
       "      <th>Score-3</th>\n",
       "      <th>Score-2</th>\n",
       "      <th>Score-1</th>\n",
       "    </tr>\n",
       "  </thead>\n",
       "  <tbody>\n",
       "    <tr>\n",
       "      <th>11351</th>\n",
       "      <td>4.94</td>\n",
       "      <td>1.0</td>\n",
       "      <td>10643.0</td>\n",
       "      <td>1080</td>\n",
       "      <td>0</td>\n",
       "      <td>23</td>\n",
       "      <td>795</td>\n",
       "      <td>14</td>\n",
       "      <td>32</td>\n",
       "      <td>216</td>\n",
       "      <td>15.0</td>\n",
       "      <td>4.0</td>\n",
       "      <td>17.0</td>\n",
       "      <td>34.0</td>\n",
       "      <td>73.0</td>\n",
       "      <td>196.0</td>\n",
       "      <td>79.0</td>\n",
       "      <td>45.0</td>\n",
       "      <td>30.0</td>\n",
       "      <td>44.0</td>\n",
       "    </tr>\n",
       "    <tr>\n",
       "      <th>8535</th>\n",
       "      <td>5.73</td>\n",
       "      <td>12.0</td>\n",
       "      <td>9064.0</td>\n",
       "      <td>22996</td>\n",
       "      <td>21</td>\n",
       "      <td>1748</td>\n",
       "      <td>9613</td>\n",
       "      <td>973</td>\n",
       "      <td>3108</td>\n",
       "      <td>7554</td>\n",
       "      <td>284.0</td>\n",
       "      <td>264.0</td>\n",
       "      <td>685.0</td>\n",
       "      <td>1481.0</td>\n",
       "      <td>1870.0</td>\n",
       "      <td>1508.0</td>\n",
       "      <td>1052.0</td>\n",
       "      <td>571.0</td>\n",
       "      <td>433.0</td>\n",
       "      <td>335.0</td>\n",
       "    </tr>\n",
       "    <tr>\n",
       "      <th>11019</th>\n",
       "      <td>7.09</td>\n",
       "      <td>25.0</td>\n",
       "      <td>3243.0</td>\n",
       "      <td>89453</td>\n",
       "      <td>322</td>\n",
       "      <td>9847</td>\n",
       "      <td>44516</td>\n",
       "      <td>4968</td>\n",
       "      <td>10090</td>\n",
       "      <td>20032</td>\n",
       "      <td>2053.0</td>\n",
       "      <td>3590.0</td>\n",
       "      <td>8864.0</td>\n",
       "      <td>12521.0</td>\n",
       "      <td>6696.0</td>\n",
       "      <td>3572.0</td>\n",
       "      <td>1448.0</td>\n",
       "      <td>532.0</td>\n",
       "      <td>226.0</td>\n",
       "      <td>156.0</td>\n",
       "    </tr>\n",
       "    <tr>\n",
       "      <th>3303</th>\n",
       "      <td>5.70</td>\n",
       "      <td>1.0</td>\n",
       "      <td>9132.0</td>\n",
       "      <td>2665</td>\n",
       "      <td>0</td>\n",
       "      <td>35</td>\n",
       "      <td>1940</td>\n",
       "      <td>16</td>\n",
       "      <td>33</td>\n",
       "      <td>641</td>\n",
       "      <td>37.0</td>\n",
       "      <td>44.0</td>\n",
       "      <td>126.0</td>\n",
       "      <td>240.0</td>\n",
       "      <td>344.0</td>\n",
       "      <td>304.0</td>\n",
       "      <td>153.0</td>\n",
       "      <td>64.0</td>\n",
       "      <td>54.0</td>\n",
       "      <td>39.0</td>\n",
       "    </tr>\n",
       "    <tr>\n",
       "      <th>5385</th>\n",
       "      <td>7.41</td>\n",
       "      <td>3.0</td>\n",
       "      <td>1872.0</td>\n",
       "      <td>33627</td>\n",
       "      <td>20</td>\n",
       "      <td>1480</td>\n",
       "      <td>19215</td>\n",
       "      <td>775</td>\n",
       "      <td>426</td>\n",
       "      <td>11731</td>\n",
       "      <td>652.0</td>\n",
       "      <td>1668.0</td>\n",
       "      <td>4598.0</td>\n",
       "      <td>4688.0</td>\n",
       "      <td>1659.0</td>\n",
       "      <td>614.0</td>\n",
       "      <td>171.0</td>\n",
       "      <td>63.0</td>\n",
       "      <td>23.0</td>\n",
       "      <td>28.0</td>\n",
       "    </tr>\n",
       "    <tr>\n",
       "      <th>...</th>\n",
       "      <td>...</td>\n",
       "      <td>...</td>\n",
       "      <td>...</td>\n",
       "      <td>...</td>\n",
       "      <td>...</td>\n",
       "      <td>...</td>\n",
       "      <td>...</td>\n",
       "      <td>...</td>\n",
       "      <td>...</td>\n",
       "      <td>...</td>\n",
       "      <td>...</td>\n",
       "      <td>...</td>\n",
       "      <td>...</td>\n",
       "      <td>...</td>\n",
       "      <td>...</td>\n",
       "      <td>...</td>\n",
       "      <td>...</td>\n",
       "      <td>...</td>\n",
       "      <td>...</td>\n",
       "      <td>...</td>\n",
       "    </tr>\n",
       "    <tr>\n",
       "      <th>10477</th>\n",
       "      <td>4.51</td>\n",
       "      <td>1.0</td>\n",
       "      <td>10901.0</td>\n",
       "      <td>539</td>\n",
       "      <td>0</td>\n",
       "      <td>5</td>\n",
       "      <td>416</td>\n",
       "      <td>4</td>\n",
       "      <td>33</td>\n",
       "      <td>81</td>\n",
       "      <td>7.0</td>\n",
       "      <td>1.0</td>\n",
       "      <td>7.0</td>\n",
       "      <td>13.0</td>\n",
       "      <td>30.0</td>\n",
       "      <td>52.0</td>\n",
       "      <td>48.0</td>\n",
       "      <td>47.0</td>\n",
       "      <td>35.0</td>\n",
       "      <td>51.0</td>\n",
       "    </tr>\n",
       "    <tr>\n",
       "      <th>390</th>\n",
       "      <td>7.98</td>\n",
       "      <td>1.0</td>\n",
       "      <td>564.0</td>\n",
       "      <td>166615</td>\n",
       "      <td>1350</td>\n",
       "      <td>1720</td>\n",
       "      <td>135717</td>\n",
       "      <td>865</td>\n",
       "      <td>480</td>\n",
       "      <td>27833</td>\n",
       "      <td>14429.0</td>\n",
       "      <td>23305.0</td>\n",
       "      <td>32660.0</td>\n",
       "      <td>22402.0</td>\n",
       "      <td>7946.0</td>\n",
       "      <td>2814.0</td>\n",
       "      <td>905.0</td>\n",
       "      <td>290.0</td>\n",
       "      <td>148.0</td>\n",
       "      <td>117.0</td>\n",
       "    </tr>\n",
       "    <tr>\n",
       "      <th>12406</th>\n",
       "      <td>6.63</td>\n",
       "      <td>1.0</td>\n",
       "      <td>5237.0</td>\n",
       "      <td>2143</td>\n",
       "      <td>2</td>\n",
       "      <td>48</td>\n",
       "      <td>1391</td>\n",
       "      <td>19</td>\n",
       "      <td>58</td>\n",
       "      <td>627</td>\n",
       "      <td>94.0</td>\n",
       "      <td>56.0</td>\n",
       "      <td>120.0</td>\n",
       "      <td>201.0</td>\n",
       "      <td>240.0</td>\n",
       "      <td>137.0</td>\n",
       "      <td>38.0</td>\n",
       "      <td>20.0</td>\n",
       "      <td>8.0</td>\n",
       "      <td>10.0</td>\n",
       "    </tr>\n",
       "    <tr>\n",
       "      <th>14891</th>\n",
       "      <td>8.06</td>\n",
       "      <td>25.0</td>\n",
       "      <td>466.0</td>\n",
       "      <td>952836</td>\n",
       "      <td>8195</td>\n",
       "      <td>136787</td>\n",
       "      <td>644355</td>\n",
       "      <td>21147</td>\n",
       "      <td>13804</td>\n",
       "      <td>136743</td>\n",
       "      <td>80318.0</td>\n",
       "      <td>133554.0</td>\n",
       "      <td>173352.0</td>\n",
       "      <td>101847.0</td>\n",
       "      <td>36457.0</td>\n",
       "      <td>14134.0</td>\n",
       "      <td>5559.0</td>\n",
       "      <td>1997.0</td>\n",
       "      <td>937.0</td>\n",
       "      <td>1330.0</td>\n",
       "    </tr>\n",
       "    <tr>\n",
       "      <th>11626</th>\n",
       "      <td>6.25</td>\n",
       "      <td>12.0</td>\n",
       "      <td>7123.0</td>\n",
       "      <td>88068</td>\n",
       "      <td>118</td>\n",
       "      <td>7653</td>\n",
       "      <td>45912</td>\n",
       "      <td>2764</td>\n",
       "      <td>8185</td>\n",
       "      <td>23554</td>\n",
       "      <td>1492.0</td>\n",
       "      <td>1641.0</td>\n",
       "      <td>4061.0</td>\n",
       "      <td>8671.0</td>\n",
       "      <td>8518.0</td>\n",
       "      <td>5371.0</td>\n",
       "      <td>2922.0</td>\n",
       "      <td>1431.0</td>\n",
       "      <td>788.0</td>\n",
       "      <td>580.0</td>\n",
       "    </tr>\n",
       "  </tbody>\n",
       "</table>\n",
       "<p>2141 rows × 20 columns</p>\n",
       "</div>"
      ],
      "text/plain": [
       "0      Score  Episodes   Ranked  Members  Favorites  Watching  Completed  \\\n",
       "11351   4.94       1.0  10643.0     1080          0        23        795   \n",
       "8535    5.73      12.0   9064.0    22996         21      1748       9613   \n",
       "11019   7.09      25.0   3243.0    89453        322      9847      44516   \n",
       "3303    5.70       1.0   9132.0     2665          0        35       1940   \n",
       "5385    7.41       3.0   1872.0    33627         20      1480      19215   \n",
       "...      ...       ...      ...      ...        ...       ...        ...   \n",
       "10477   4.51       1.0  10901.0      539          0         5        416   \n",
       "390     7.98       1.0    564.0   166615       1350      1720     135717   \n",
       "12406   6.63       1.0   5237.0     2143          2        48       1391   \n",
       "14891   8.06      25.0    466.0   952836       8195    136787     644355   \n",
       "11626   6.25      12.0   7123.0    88068        118      7653      45912   \n",
       "\n",
       "0      On-Hold  Dropped  Plan to Watch  Score-10   Score-9   Score-8  \\\n",
       "11351       14       32            216      15.0       4.0      17.0   \n",
       "8535       973     3108           7554     284.0     264.0     685.0   \n",
       "11019     4968    10090          20032    2053.0    3590.0    8864.0   \n",
       "3303        16       33            641      37.0      44.0     126.0   \n",
       "5385       775      426          11731     652.0    1668.0    4598.0   \n",
       "...        ...      ...            ...       ...       ...       ...   \n",
       "10477        4       33             81       7.0       1.0       7.0   \n",
       "390        865      480          27833   14429.0   23305.0   32660.0   \n",
       "12406       19       58            627      94.0      56.0     120.0   \n",
       "14891    21147    13804         136743   80318.0  133554.0  173352.0   \n",
       "11626     2764     8185          23554    1492.0    1641.0    4061.0   \n",
       "\n",
       "0       Score-7  Score-6  Score-5  Score-4  Score-3  Score-2  Score-1  \n",
       "11351      34.0     73.0    196.0     79.0     45.0     30.0     44.0  \n",
       "8535     1481.0   1870.0   1508.0   1052.0    571.0    433.0    335.0  \n",
       "11019   12521.0   6696.0   3572.0   1448.0    532.0    226.0    156.0  \n",
       "3303      240.0    344.0    304.0    153.0     64.0     54.0     39.0  \n",
       "5385     4688.0   1659.0    614.0    171.0     63.0     23.0     28.0  \n",
       "...         ...      ...      ...      ...      ...      ...      ...  \n",
       "10477      13.0     30.0     52.0     48.0     47.0     35.0     51.0  \n",
       "390     22402.0   7946.0   2814.0    905.0    290.0    148.0    117.0  \n",
       "12406     201.0    240.0    137.0     38.0     20.0      8.0     10.0  \n",
       "14891  101847.0  36457.0  14134.0   5559.0   1997.0    937.0   1330.0  \n",
       "11626    8671.0   8518.0   5371.0   2922.0   1431.0    788.0    580.0  \n",
       "\n",
       "[2141 rows x 20 columns]"
      ]
     },
     "execution_count": 90,
     "metadata": {},
     "output_type": "execute_result"
    }
   ],
   "source": [
    "X_test"
   ]
  },
  {
   "cell_type": "code",
   "execution_count": 91,
   "id": "ede818e1",
   "metadata": {},
   "outputs": [
    {
     "data": {
      "image/png": "[encoded data removed]",
      "text/plain": [
       "<Figure size 432x288 with 2 Axes>"
      ]
     },
     "metadata": {
      "needs_background": "light"
     },
     "output_type": "display_data"
    }
   ],
   "source": [
    "cmap = sns.cubehelix_palette(as_cmap = True)\n",
    "f, ax = plt.subplots()\n",
    "points = ax.scatter(\n",
    "    X_test.loc[:, \"Score\"], X_test.loc[:, \"Ranked\"], c=y_test, s=50, cmap=cmap\n",
    ")\n",
    "f.colorbar(points)\n",
    "plt.show()"
   ]
  },
  {
   "cell_type": "code",
   "execution_count": 92,
   "id": "8db27c89",
   "metadata": {},
   "outputs": [],
   "source": [
    "#now let's tune and optimize our model"
   ]
  },
  {
   "cell_type": "code",
   "execution_count": 93,
   "id": "b81c130c",
   "metadata": {},
   "outputs": [],
   "source": [
    "#let's find the best value of k"
   ]
  },
  {
   "cell_type": "code",
   "execution_count": 94,
   "id": "60ffeeb0",
   "metadata": {},
   "outputs": [],
   "source": [
    "from sklearn.model_selection import GridSearchCV"
   ]
  },
  {
   "cell_type": "code",
   "execution_count": 95,
   "id": "b2775a3e",
   "metadata": {},
   "outputs": [
    {
     "data": {
      "text/plain": [
       "{'n_neighbors': range(1, 50)}"
      ]
     },
     "execution_count": 95,
     "metadata": {},
     "output_type": "execute_result"
    }
   ],
   "source": [
    "parameters = {\"n_neighbors\": range(1, 50)}\n",
    "parameters"
   ]
  },
  {
   "cell_type": "code",
   "execution_count": 96,
   "id": "c6a31a72",
   "metadata": {},
   "outputs": [
    {
     "data": {
      "text/plain": [
       "GridSearchCV(estimator=KNeighborsRegressor(),\n",
       "             param_grid={'n_neighbors': range(1, 50)})"
      ]
     },
     "execution_count": 96,
     "metadata": {},
     "output_type": "execute_result"
    }
   ],
   "source": [
    "gridsearch = GridSearchCV(KNeighborsRegressor(), parameters)\n",
    "gridsearch.fit(X_train, y_train)"
   ]
  },
  {
   "cell_type": "code",
   "execution_count": 97,
   "id": "966ac27e",
   "metadata": {},
   "outputs": [
    {
     "data": {
      "text/plain": [
       "{'n_neighbors': 4}"
      ]
     },
     "execution_count": 97,
     "metadata": {},
     "output_type": "execute_result"
    }
   ],
   "source": [
    "gridsearch.best_params_"
   ]
  },
  {
   "cell_type": "code",
   "execution_count": 98,
   "id": "a0f7c975",
   "metadata": {},
   "outputs": [],
   "source": [
    "#create new prediction points based on the new .best_params_"
   ]
  },
  {
   "cell_type": "code",
   "execution_count": 99,
   "id": "b06a81d4",
   "metadata": {},
   "outputs": [
    {
     "data": {
      "text/plain": [
       "73.22936063928081"
      ]
     },
     "execution_count": 99,
     "metadata": {},
     "output_type": "execute_result"
    }
   ],
   "source": [
    "train_preds_grid = gridsearch.predict(X_train)\n",
    "train_mse = mean_squared_error(y_train, train_preds_grid)\n",
    "train_rmse = sqrt(train_mse)\n",
    "train_rmse"
   ]
  },
  {
   "cell_type": "code",
   "execution_count": 100,
   "id": "e95dffe4",
   "metadata": {},
   "outputs": [
    {
     "data": {
      "text/plain": [
       "109.29843283153777"
      ]
     },
     "execution_count": 100,
     "metadata": {},
     "output_type": "execute_result"
    }
   ],
   "source": [
    "test_preds_grid = gridsearch.predict(X_test)\n",
    "test_mse = mean_squared_error(y_test, test_preds_grid)\n",
    "test_rmse = sqrt(test_mse)\n",
    "test_rmse"
   ]
  },
  {
   "cell_type": "code",
   "execution_count": 101,
   "id": "3d841c39",
   "metadata": {},
   "outputs": [
    {
     "data": {
      "text/plain": [
       "108.89172514605093"
      ]
     },
     "execution_count": 101,
     "metadata": {},
     "output_type": "execute_result"
    }
   ],
   "source": [
    "rmse"
   ]
  },
  {
   "cell_type": "code",
   "execution_count": 102,
   "id": "2c8c4197",
   "metadata": {},
   "outputs": [],
   "source": [
    "#enhance predictions"
   ]
  },
  {
   "cell_type": "code",
   "execution_count": 103,
   "id": "bdee5741",
   "metadata": {},
   "outputs": [],
   "source": [
    "parameters = {\n",
    "    \"n_neighbors\": range(1, 50),\n",
    "    \"weights\": [\"uniform\", \"distance\"],\n",
    "}"
   ]
  },
  {
   "cell_type": "code",
   "execution_count": 104,
   "id": "df06c4ee",
   "metadata": {},
   "outputs": [
    {
     "data": {
      "text/plain": [
       "{'n_neighbors': 5, 'weights': 'distance'}"
      ]
     },
     "execution_count": 104,
     "metadata": {},
     "output_type": "execute_result"
    }
   ],
   "source": [
    "gridsearch = GridSearchCV(KNeighborsRegressor(), parameters)\n",
    "gridsearch.fit(X_train, y_train)\n",
    "gridsearch.best_params_"
   ]
  },
  {
   "cell_type": "code",
   "execution_count": 105,
   "id": "a689b64a",
   "metadata": {},
   "outputs": [
    {
     "data": {
      "text/plain": [
       "102.80682200127744"
      ]
     },
     "execution_count": 105,
     "metadata": {},
     "output_type": "execute_result"
    }
   ],
   "source": [
    "test_preds_grid = gridsearch.predict(X_test)\n",
    "test_mse = mean_squared_error(y_test, test_preds_grid)\n",
    "test_rmse = sqrt(test_mse)\n",
    "test_rmse"
   ]
  },
  {
   "cell_type": "code",
   "execution_count": 106,
   "id": "f29d0b44",
   "metadata": {},
   "outputs": [],
   "source": [
    "#optimize further using bagging "
   ]
  },
  {
   "cell_type": "code",
   "execution_count": 107,
   "id": "2603c18f",
   "metadata": {},
   "outputs": [],
   "source": [
    "best_k = gridsearch.best_params_[\"n_neighbors\"]"
   ]
  },
  {
   "cell_type": "code",
   "execution_count": 108,
   "id": "c0b08a1f",
   "metadata": {},
   "outputs": [],
   "source": [
    "best_weights = gridsearch.best_params_[\"weights\"]"
   ]
  },
  {
   "cell_type": "code",
   "execution_count": 109,
   "id": "e681b5ae",
   "metadata": {},
   "outputs": [],
   "source": [
    "bagged_knn = KNeighborsRegressor(\n",
    "    n_neighbors=best_k, weights=best_weights\n",
    ").fit(X, y)"
   ]
  },
  {
   "cell_type": "code",
   "execution_count": 110,
   "id": "47241ca3",
   "metadata": {},
   "outputs": [],
   "source": [
    "new_predictions = bagged_knn.kneighbors(X, return_distance = False)"
   ]
  },
  {
   "cell_type": "code",
   "execution_count": 111,
   "id": "63a241c8",
   "metadata": {},
   "outputs": [
    {
     "name": "stdout",
     "output_type": "stream",
     "text": [
      "<built-in method index of str object at 0x00000260F4111530>\n"
     ]
    },
    {
     "data": {
      "text/plain": [
       "array([[    0,  1722,  5537,    19,  1871],\n",
       "       [    1,  5342,  5894,   524,  4834],\n",
       "       [    2,  6831,  5267,  1561,  8030],\n",
       "       ...,\n",
       "       [10698, 10493, 10590, 10609, 10554],\n",
       "       [10699,  5883,  1132, 10301,  4219],\n",
       "       [10700,  5202,  8850,  6187,  5151]], dtype=int64)"
      ]
     },
     "execution_count": 111,
     "metadata": {},
     "output_type": "execute_result"
    }
   ],
   "source": [
    "print(anime.loc[1,\"Name\"].index)\n",
    "anime.loc[:,\"Name\"].index\n",
    "new_predictions\n"
   ]
  },
  {
   "cell_type": "code",
   "execution_count": 112,
   "id": "ea212288",
   "metadata": {},
   "outputs": [],
   "source": [
    "new_predicted_ids = y[new_predictions[10][:]]"
   ]
  },
  {
   "cell_type": "code",
   "execution_count": 113,
   "id": "1d0370b7",
   "metadata": {},
   "outputs": [
    {
     "data": {
      "text/html": [
       "<div>\n",
       "<style scoped>\n",
       "    .dataframe tbody tr th:only-of-type {\n",
       "        vertical-align: middle;\n",
       "    }\n",
       "\n",
       "    .dataframe tbody tr th {\n",
       "        vertical-align: top;\n",
       "    }\n",
       "\n",
       "    .dataframe thead th {\n",
       "        text-align: right;\n",
       "    }\n",
       "</style>\n",
       "<table border=\"1\" class=\"dataframe\">\n",
       "  <thead>\n",
       "    <tr style=\"text-align: right;\">\n",
       "      <th></th>\n",
       "      <th>MAL_ID</th>\n",
       "      <th>Name</th>\n",
       "      <th>Score</th>\n",
       "      <th>Genres</th>\n",
       "      <th>English name</th>\n",
       "      <th>Japanese name</th>\n",
       "      <th>Type</th>\n",
       "      <th>Episodes</th>\n",
       "      <th>Aired</th>\n",
       "      <th>Premiered</th>\n",
       "      <th>...</th>\n",
       "      <th>Score-10</th>\n",
       "      <th>Score-9</th>\n",
       "      <th>Score-8</th>\n",
       "      <th>Score-7</th>\n",
       "      <th>Score-6</th>\n",
       "      <th>Score-5</th>\n",
       "      <th>Score-4</th>\n",
       "      <th>Score-3</th>\n",
       "      <th>Score-2</th>\n",
       "      <th>Score-1</th>\n",
       "    </tr>\n",
       "  </thead>\n",
       "  <tbody>\n",
       "    <tr>\n",
       "      <th>9</th>\n",
       "      <td>18</td>\n",
       "      <td>Initial D Fourth Stage</td>\n",
       "      <td>8.15</td>\n",
       "      <td>Action, Cars, Sports, Drama, Seinen</td>\n",
       "      <td>Unknown</td>\n",
       "      <td>頭文字〈イニシャル〉D FOURTH STAGE</td>\n",
       "      <td>TV</td>\n",
       "      <td>24.0</td>\n",
       "      <td>Apr 17, 2004 to Feb 18, 2006</td>\n",
       "      <td>Spring 2004</td>\n",
       "      <td>...</td>\n",
       "      <td>10948.0</td>\n",
       "      <td>15820.0</td>\n",
       "      <td>22379.0</td>\n",
       "      <td>12912.0</td>\n",
       "      <td>3874.0</td>\n",
       "      <td>1236.0</td>\n",
       "      <td>369.0</td>\n",
       "      <td>97.0</td>\n",
       "      <td>48.0</td>\n",
       "      <td>259.0</td>\n",
       "    </tr>\n",
       "    <tr>\n",
       "      <th>8</th>\n",
       "      <td>17</td>\n",
       "      <td>Hungry Heart: Wild Striker</td>\n",
       "      <td>7.59</td>\n",
       "      <td>Slice of Life, Comedy, Sports, Shounen</td>\n",
       "      <td>Unknown</td>\n",
       "      <td>ハングリーハート Wild Striker</td>\n",
       "      <td>TV</td>\n",
       "      <td>52.0</td>\n",
       "      <td>Sep 11, 2002 to Sep 10, 2003</td>\n",
       "      <td>Fall 2002</td>\n",
       "      <td>...</td>\n",
       "      <td>1123.0</td>\n",
       "      <td>1777.0</td>\n",
       "      <td>3102.0</td>\n",
       "      <td>3075.0</td>\n",
       "      <td>1286.0</td>\n",
       "      <td>602.0</td>\n",
       "      <td>218.0</td>\n",
       "      <td>88.0</td>\n",
       "      <td>31.0</td>\n",
       "      <td>32.0</td>\n",
       "    </tr>\n",
       "    <tr>\n",
       "      <th>11</th>\n",
       "      <td>20</td>\n",
       "      <td>Naruto</td>\n",
       "      <td>7.91</td>\n",
       "      <td>Action, Adventure, Comedy, Super Power, Martia...</td>\n",
       "      <td>Naruto</td>\n",
       "      <td>ナルト</td>\n",
       "      <td>TV</td>\n",
       "      <td>220.0</td>\n",
       "      <td>Oct 3, 2002 to Feb 8, 2007</td>\n",
       "      <td>Fall 2002</td>\n",
       "      <td>...</td>\n",
       "      <td>216866.0</td>\n",
       "      <td>234481.0</td>\n",
       "      <td>345563.0</td>\n",
       "      <td>286175.0</td>\n",
       "      <td>108155.0</td>\n",
       "      <td>46886.0</td>\n",
       "      <td>15477.0</td>\n",
       "      <td>6098.0</td>\n",
       "      <td>3582.0</td>\n",
       "      <td>5310.0</td>\n",
       "    </tr>\n",
       "    <tr>\n",
       "      <th>7</th>\n",
       "      <td>16</td>\n",
       "      <td>Hachimitsu to Clover</td>\n",
       "      <td>8.06</td>\n",
       "      <td>Comedy, Drama, Josei, Romance, Slice of Life</td>\n",
       "      <td>Honey and Clover</td>\n",
       "      <td>ハチミツとクローバー</td>\n",
       "      <td>TV</td>\n",
       "      <td>24.0</td>\n",
       "      <td>Apr 15, 2005 to Sep 27, 2005</td>\n",
       "      <td>Spring 2005</td>\n",
       "      <td>...</td>\n",
       "      <td>11829.0</td>\n",
       "      <td>16309.0</td>\n",
       "      <td>20008.0</td>\n",
       "      <td>13062.0</td>\n",
       "      <td>5574.0</td>\n",
       "      <td>3148.0</td>\n",
       "      <td>1339.0</td>\n",
       "      <td>484.0</td>\n",
       "      <td>278.0</td>\n",
       "      <td>321.0</td>\n",
       "    </tr>\n",
       "    <tr>\n",
       "      <th>15</th>\n",
       "      <td>24</td>\n",
       "      <td>School Rumble</td>\n",
       "      <td>7.94</td>\n",
       "      <td>Comedy, Romance, School, Shounen</td>\n",
       "      <td>School Rumble</td>\n",
       "      <td>スクールランブル</td>\n",
       "      <td>TV</td>\n",
       "      <td>26.0</td>\n",
       "      <td>Oct 5, 2004 to Mar 29, 2005</td>\n",
       "      <td>Fall 2004</td>\n",
       "      <td>...</td>\n",
       "      <td>17907.0</td>\n",
       "      <td>27623.0</td>\n",
       "      <td>38112.0</td>\n",
       "      <td>27327.0</td>\n",
       "      <td>11034.0</td>\n",
       "      <td>5396.0</td>\n",
       "      <td>1897.0</td>\n",
       "      <td>780.0</td>\n",
       "      <td>441.0</td>\n",
       "      <td>405.0</td>\n",
       "    </tr>\n",
       "  </tbody>\n",
       "</table>\n",
       "<p>5 rows × 35 columns</p>\n",
       "</div>"
      ],
      "text/plain": [
       "0   MAL_ID                        Name  Score  \\\n",
       "9       18      Initial D Fourth Stage   8.15   \n",
       "8       17  Hungry Heart: Wild Striker   7.59   \n",
       "11      20                      Naruto   7.91   \n",
       "7       16        Hachimitsu to Clover   8.06   \n",
       "15      24               School Rumble   7.94   \n",
       "\n",
       "0                                              Genres      English name  \\\n",
       "9                 Action, Cars, Sports, Drama, Seinen           Unknown   \n",
       "8              Slice of Life, Comedy, Sports, Shounen           Unknown   \n",
       "11  Action, Adventure, Comedy, Super Power, Martia...            Naruto   \n",
       "7        Comedy, Drama, Josei, Romance, Slice of Life  Honey and Clover   \n",
       "15                   Comedy, Romance, School, Shounen     School Rumble   \n",
       "\n",
       "0              Japanese name Type  Episodes                         Aired  \\\n",
       "9   頭文字〈イニシャル〉D FOURTH STAGE   TV      24.0  Apr 17, 2004 to Feb 18, 2006   \n",
       "8      ハングリーハート Wild Striker   TV      52.0  Sep 11, 2002 to Sep 10, 2003   \n",
       "11                       ナルト   TV     220.0    Oct 3, 2002 to Feb 8, 2007   \n",
       "7                 ハチミツとクローバー   TV      24.0  Apr 15, 2005 to Sep 27, 2005   \n",
       "15                  スクールランブル   TV      26.0   Oct 5, 2004 to Mar 29, 2005   \n",
       "\n",
       "0     Premiered  ...  Score-10   Score-9   Score-8   Score-7   Score-6  \\\n",
       "9   Spring 2004  ...   10948.0   15820.0   22379.0   12912.0    3874.0   \n",
       "8     Fall 2002  ...    1123.0    1777.0    3102.0    3075.0    1286.0   \n",
       "11    Fall 2002  ...  216866.0  234481.0  345563.0  286175.0  108155.0   \n",
       "7   Spring 2005  ...   11829.0   16309.0   20008.0   13062.0    5574.0   \n",
       "15    Fall 2004  ...   17907.0   27623.0   38112.0   27327.0   11034.0   \n",
       "\n",
       "0   Score-5  Score-4  Score-3  Score-2  Score-1  \n",
       "9    1236.0    369.0     97.0     48.0    259.0  \n",
       "8     602.0    218.0     88.0     31.0     32.0  \n",
       "11  46886.0  15477.0   6098.0   3582.0   5310.0  \n",
       "7    3148.0   1339.0    484.0    278.0    321.0  \n",
       "15   5396.0   1897.0    780.0    441.0    405.0  \n",
       "\n",
       "[5 rows x 35 columns]"
      ]
     },
     "execution_count": 113,
     "metadata": {},
     "output_type": "execute_result"
    }
   ],
   "source": [
    "anime.iloc[new_predicted_ids,:]"
   ]
  },
  {
   "cell_type": "code",
   "execution_count": null,
   "id": "92774bdc",
   "metadata": {},
   "outputs": [],
   "source": []
  },
  {
   "cell_type": "code",
   "execution_count": 114,
   "id": "09048c11",
   "metadata": {},
   "outputs": [],
   "source": [
    "#from sklearn.ensemble import BaggingRegressor"
   ]
  },
  {
   "cell_type": "code",
   "execution_count": 115,
   "id": "6e37d3d5",
   "metadata": {},
   "outputs": [],
   "source": [
    "#bagging_model = BaggingRegressor(bagged_knn, n_estimators=100).fit(X_test, y_test)"
   ]
  },
  {
   "cell_type": "code",
   "execution_count": 116,
   "id": "e991a07c",
   "metadata": {},
   "outputs": [],
   "source": [
    "# test_preds_grid = bagging_model.predict(X_test)\n",
    "# test_mse = mean_squared_error(y_test, test_preds_grid)\n",
    "# test_rmse = sqrt(test_mse)\n",
    "# test_rmse"
   ]
  },
  {
   "cell_type": "code",
   "execution_count": 117,
   "id": "4886db6a",
   "metadata": {},
   "outputs": [],
   "source": [
    "# len(test_preds_grid)"
   ]
  },
  {
   "cell_type": "code",
   "execution_count": 118,
   "id": "b03fa7f7",
   "metadata": {},
   "outputs": [],
   "source": [
    "# test_preds_grid"
   ]
  },
  {
   "cell_type": "markdown",
   "id": "f23b543c",
   "metadata": {},
   "source": []
  },
  {
   "cell_type": "code",
   "execution_count": 119,
   "id": "2142a45b",
   "metadata": {},
   "outputs": [
    {
     "data": {
      "text/html": [
       "<div>\n",
       "<style scoped>\n",
       "    .dataframe tbody tr th:only-of-type {\n",
       "        vertical-align: middle;\n",
       "    }\n",
       "\n",
       "    .dataframe tbody tr th {\n",
       "        vertical-align: top;\n",
       "    }\n",
       "\n",
       "    .dataframe thead th {\n",
       "        text-align: right;\n",
       "    }\n",
       "</style>\n",
       "<table border=\"1\" class=\"dataframe\">\n",
       "  <thead>\n",
       "    <tr style=\"text-align: right;\">\n",
       "      <th></th>\n",
       "      <th>MAL_ID</th>\n",
       "      <th>Name</th>\n",
       "      <th>Score</th>\n",
       "      <th>Genres</th>\n",
       "      <th>English name</th>\n",
       "      <th>Japanese name</th>\n",
       "      <th>Type</th>\n",
       "      <th>Episodes</th>\n",
       "      <th>Aired</th>\n",
       "      <th>Premiered</th>\n",
       "      <th>...</th>\n",
       "      <th>Score-10</th>\n",
       "      <th>Score-9</th>\n",
       "      <th>Score-8</th>\n",
       "      <th>Score-7</th>\n",
       "      <th>Score-6</th>\n",
       "      <th>Score-5</th>\n",
       "      <th>Score-4</th>\n",
       "      <th>Score-3</th>\n",
       "      <th>Score-2</th>\n",
       "      <th>Score-1</th>\n",
       "    </tr>\n",
       "  </thead>\n",
       "  <tbody>\n",
       "    <tr>\n",
       "      <th>1</th>\n",
       "      <td>1</td>\n",
       "      <td>Cowboy Bebop</td>\n",
       "      <td>8.78</td>\n",
       "      <td>Action, Adventure, Comedy, Drama, Sci-Fi, Space</td>\n",
       "      <td>Cowboy Bebop</td>\n",
       "      <td>カウボーイビバップ</td>\n",
       "      <td>TV</td>\n",
       "      <td>26.0</td>\n",
       "      <td>Apr 3, 1998 to Apr 24, 1999</td>\n",
       "      <td>Spring 1998</td>\n",
       "      <td>...</td>\n",
       "      <td>229170.0</td>\n",
       "      <td>182126.0</td>\n",
       "      <td>131625.0</td>\n",
       "      <td>62330.0</td>\n",
       "      <td>20688.0</td>\n",
       "      <td>8904.0</td>\n",
       "      <td>3184.0</td>\n",
       "      <td>1357.0</td>\n",
       "      <td>741.0</td>\n",
       "      <td>1580.0</td>\n",
       "    </tr>\n",
       "    <tr>\n",
       "      <th>2</th>\n",
       "      <td>5</td>\n",
       "      <td>Cowboy Bebop: Tengoku no Tobira</td>\n",
       "      <td>8.39</td>\n",
       "      <td>Action, Drama, Mystery, Sci-Fi, Space</td>\n",
       "      <td>Cowboy Bebop:The Movie</td>\n",
       "      <td>カウボーイビバップ 天国の扉</td>\n",
       "      <td>Movie</td>\n",
       "      <td>1.0</td>\n",
       "      <td>Sep 1, 2001</td>\n",
       "      <td>Unknown</td>\n",
       "      <td>...</td>\n",
       "      <td>30043.0</td>\n",
       "      <td>49201.0</td>\n",
       "      <td>49505.0</td>\n",
       "      <td>22632.0</td>\n",
       "      <td>5805.0</td>\n",
       "      <td>1877.0</td>\n",
       "      <td>577.0</td>\n",
       "      <td>221.0</td>\n",
       "      <td>109.0</td>\n",
       "      <td>379.0</td>\n",
       "    </tr>\n",
       "    <tr>\n",
       "      <th>3</th>\n",
       "      <td>6</td>\n",
       "      <td>Trigun</td>\n",
       "      <td>8.24</td>\n",
       "      <td>Action, Sci-Fi, Adventure, Comedy, Drama, Shounen</td>\n",
       "      <td>Trigun</td>\n",
       "      <td>トライガン</td>\n",
       "      <td>TV</td>\n",
       "      <td>26.0</td>\n",
       "      <td>Apr 1, 1998 to Sep 30, 1998</td>\n",
       "      <td>Spring 1998</td>\n",
       "      <td>...</td>\n",
       "      <td>50229.0</td>\n",
       "      <td>75651.0</td>\n",
       "      <td>86142.0</td>\n",
       "      <td>49432.0</td>\n",
       "      <td>15376.0</td>\n",
       "      <td>5838.0</td>\n",
       "      <td>1965.0</td>\n",
       "      <td>664.0</td>\n",
       "      <td>316.0</td>\n",
       "      <td>533.0</td>\n",
       "    </tr>\n",
       "    <tr>\n",
       "      <th>4</th>\n",
       "      <td>7</td>\n",
       "      <td>Witch Hunter Robin</td>\n",
       "      <td>7.27</td>\n",
       "      <td>Action, Mystery, Police, Supernatural, Drama, ...</td>\n",
       "      <td>Witch Hunter Robin</td>\n",
       "      <td>Witch Hunter ROBIN (ウイッチハンターロビン)</td>\n",
       "      <td>TV</td>\n",
       "      <td>26.0</td>\n",
       "      <td>Jul 2, 2002 to Dec 24, 2002</td>\n",
       "      <td>Summer 2002</td>\n",
       "      <td>...</td>\n",
       "      <td>2182.0</td>\n",
       "      <td>4806.0</td>\n",
       "      <td>10128.0</td>\n",
       "      <td>11618.0</td>\n",
       "      <td>5709.0</td>\n",
       "      <td>2920.0</td>\n",
       "      <td>1083.0</td>\n",
       "      <td>353.0</td>\n",
       "      <td>164.0</td>\n",
       "      <td>131.0</td>\n",
       "    </tr>\n",
       "    <tr>\n",
       "      <th>5</th>\n",
       "      <td>8</td>\n",
       "      <td>Bouken Ou Beet</td>\n",
       "      <td>6.98</td>\n",
       "      <td>Adventure, Fantasy, Shounen, Supernatural</td>\n",
       "      <td>Beet the Vandel Buster</td>\n",
       "      <td>冒険王ビィト</td>\n",
       "      <td>TV</td>\n",
       "      <td>52.0</td>\n",
       "      <td>Sep 30, 2004 to Sep 29, 2005</td>\n",
       "      <td>Fall 2004</td>\n",
       "      <td>...</td>\n",
       "      <td>312.0</td>\n",
       "      <td>529.0</td>\n",
       "      <td>1242.0</td>\n",
       "      <td>1713.0</td>\n",
       "      <td>1068.0</td>\n",
       "      <td>634.0</td>\n",
       "      <td>265.0</td>\n",
       "      <td>83.0</td>\n",
       "      <td>50.0</td>\n",
       "      <td>27.0</td>\n",
       "    </tr>\n",
       "  </tbody>\n",
       "</table>\n",
       "<p>5 rows × 35 columns</p>\n",
       "</div>"
      ],
      "text/plain": [
       "0  MAL_ID                             Name  Score  \\\n",
       "1       1                     Cowboy Bebop   8.78   \n",
       "2       5  Cowboy Bebop: Tengoku no Tobira   8.39   \n",
       "3       6                           Trigun   8.24   \n",
       "4       7               Witch Hunter Robin   7.27   \n",
       "5       8                   Bouken Ou Beet   6.98   \n",
       "\n",
       "0                                             Genres            English name  \\\n",
       "1    Action, Adventure, Comedy, Drama, Sci-Fi, Space            Cowboy Bebop   \n",
       "2              Action, Drama, Mystery, Sci-Fi, Space  Cowboy Bebop:The Movie   \n",
       "3  Action, Sci-Fi, Adventure, Comedy, Drama, Shounen                  Trigun   \n",
       "4  Action, Mystery, Police, Supernatural, Drama, ...      Witch Hunter Robin   \n",
       "5          Adventure, Fantasy, Shounen, Supernatural  Beet the Vandel Buster   \n",
       "\n",
       "0                     Japanese name   Type  Episodes  \\\n",
       "1                         カウボーイビバップ     TV      26.0   \n",
       "2                    カウボーイビバップ 天国の扉  Movie       1.0   \n",
       "3                             トライガン     TV      26.0   \n",
       "4  Witch Hunter ROBIN (ウイッチハンターロビン)     TV      26.0   \n",
       "5                            冒険王ビィト     TV      52.0   \n",
       "\n",
       "0                         Aired    Premiered  ...  Score-10   Score-9  \\\n",
       "1   Apr 3, 1998 to Apr 24, 1999  Spring 1998  ...  229170.0  182126.0   \n",
       "2                   Sep 1, 2001      Unknown  ...   30043.0   49201.0   \n",
       "3   Apr 1, 1998 to Sep 30, 1998  Spring 1998  ...   50229.0   75651.0   \n",
       "4   Jul 2, 2002 to Dec 24, 2002  Summer 2002  ...    2182.0    4806.0   \n",
       "5  Sep 30, 2004 to Sep 29, 2005    Fall 2004  ...     312.0     529.0   \n",
       "\n",
       "0   Score-8  Score-7  Score-6 Score-5  Score-4  Score-3  Score-2  Score-1  \n",
       "1  131625.0  62330.0  20688.0  8904.0   3184.0   1357.0    741.0   1580.0  \n",
       "2   49505.0  22632.0   5805.0  1877.0    577.0    221.0    109.0    379.0  \n",
       "3   86142.0  49432.0  15376.0  5838.0   1965.0    664.0    316.0    533.0  \n",
       "4   10128.0  11618.0   5709.0  2920.0   1083.0    353.0    164.0    131.0  \n",
       "5    1242.0   1713.0   1068.0   634.0    265.0     83.0     50.0     27.0  \n",
       "\n",
       "[5 rows x 35 columns]"
      ]
     },
     "execution_count": 119,
     "metadata": {},
     "output_type": "execute_result"
    }
   ],
   "source": [
    "anime.head()"
   ]
  },
  {
   "cell_type": "code",
   "execution_count": 120,
   "id": "a012520b",
   "metadata": {},
   "outputs": [
    {
     "data": {
      "text/plain": [
       "0\n",
       "MAL_ID                                                         845\n",
       "Name                                                          Kiba\n",
       "Score                                                         7.32\n",
       "Genres                                 Adventure, Fantasy, Shounen\n",
       "English name                                                  Kiba\n",
       "Japanese name                                              牙-KIBA-\n",
       "Type                                                            TV\n",
       "Episodes                                                      51.0\n",
       "Aired                                  Apr 2, 2006 to Mar 25, 2007\n",
       "Premiered                                              Spring 2006\n",
       "Producers        Aniplex, Ashi Production, Sony Music Entertain...\n",
       "Licensors                              ADV Films, Sentai Filmworks\n",
       "Studios                                                   Madhouse\n",
       "Source                                                    Original\n",
       "Duration                                           24 min. per ep.\n",
       "Rating                                   PG-13 - Teens 13 or older\n",
       "Ranked                                                      2253.0\n",
       "Popularity                                                    1834\n",
       "Members                                                      68142\n",
       "Favorites                                                      465\n",
       "Watching                                                      4079\n",
       "Completed                                                    34807\n",
       "On-Hold                                                       4356\n",
       "Dropped                                                       5085\n",
       "Plan to Watch                                                19815\n",
       "Score-10                                                    2320.0\n",
       "Score-9                                                     3830.0\n",
       "Score-8                                                     7359.0\n",
       "Score-7                                                     8258.0\n",
       "Score-6                                                     4401.0\n",
       "Score-5                                                     2309.0\n",
       "Score-4                                                      966.0\n",
       "Score-3                                                      352.0\n",
       "Score-2                                                      170.0\n",
       "Score-1                                                      113.0\n",
       "Name: 764, dtype: object"
      ]
     },
     "execution_count": 120,
     "metadata": {},
     "output_type": "execute_result"
    }
   ],
   "source": [
    "anime.iloc[734,:]"
   ]
  },
  {
   "cell_type": "code",
   "execution_count": 121,
   "id": "edb6b12e",
   "metadata": {},
   "outputs": [
    {
     "name": "stderr",
     "output_type": "stream",
     "text": [
      "2022-04-02 18:46:16.042 \n",
      "  \u001b[33m\u001b[1mWarning:\u001b[0m to view this Streamlit app on a browser, run it with the following\n",
      "  command:\n",
      "\n",
      "    streamlit run C:\\Users\\vs\\AppData\\Roaming\\Python\\Python310\\site-packages\\ipykernel_launcher.py [ARGUMENTS]\n"
     ]
    }
   ],
   "source": [
    "import streamlit as st\n",
    "import pandas as pd\n",
    "\n",
    "st.write(\"Here's our first attempt at using data to create a table:\")\n",
    "st.write(pd.DataFrame({\n",
    "    'first column': [1, 2, 3, 4],\n",
    "    'second column': [10, 20, 30, 40]\n",
    "}))"
   ]
  },
  {
   "cell_type": "code",
   "execution_count": null,
   "id": "ded8cbe4",
   "metadata": {},
   "outputs": [],
   "source": []
  },
  {
   "cell_type": "code",
   "execution_count": null,
   "id": "db28610b",
   "metadata": {},
   "outputs": [],
   "source": []
  }
 ],
 "metadata": {
  "kernelspec": {
   "display_name": "Python 3 (ipykernel)",
   "language": "python",
   "name": "python3"
  },
  "language_info": {
   "codemirror_mode": {
    "name": "ipython",
    "version": 3
   },
   "file_extension": ".py",
   "mimetype": "text/x-python",
   "name": "python",
   "nbconvert_exporter": "python",
   "pygments_lexer": "ipython3",
   "version": "3.10.4"
  }
 },
 "nbformat": 4,
 "nbformat_minor": 5
}
